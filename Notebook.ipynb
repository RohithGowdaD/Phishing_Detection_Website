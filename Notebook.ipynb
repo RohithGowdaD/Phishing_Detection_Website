{
 "cells": [
  {
   "cell_type": "markdown",
   "metadata": {},
   "source": [
    "# Importing Libraries"
   ]
  },
  {
   "cell_type": "code",
   "execution_count": 1,
   "metadata": {},
   "outputs": [],
   "source": [
    "import warnings\n",
    "warnings.filterwarnings('ignore')"
   ]
  },
  {
   "cell_type": "code",
   "execution_count": 2,
   "metadata": {},
   "outputs": [],
   "source": [
    "import pandas as pd\n",
    "from urllib.parse import urlparse,urlencode\n",
    "import ipaddress\n",
    "import re\n",
    "import requests\n",
    "import re\n",
    "from bs4 import BeautifulSoup\n",
    "import whois\n",
    "import urllib\n",
    "import urllib.request\n",
    "from datetime import datetime\n",
    "import seaborn as sns\n",
    "import matplotlib.pyplot as plt\n",
    "from sklearn.model_selection import train_test_split\n",
    "from sklearn.metrics import accuracy_score\n",
    "from sklearn.metrics import precision_score\n",
    "from sklearn.metrics import recall_score\n",
    "from sklearn.metrics import f1_score\n",
    "import numpy as np\n",
    "from sklearn.metrics import confusion_matrix, classification_report\n",
    "from sklearn.preprocessing import LabelBinarizer\n",
    "from tensorflow.keras.utils import to_categorical\n",
    "import pickle"
   ]
  },
  {
   "cell_type": "code",
   "execution_count": 3,
   "metadata": {},
   "outputs": [],
   "source": [
    "from tensorflow.keras.layers import Dense, LSTM, MaxPool1D, SimpleRNN, Flatten, Dropout, Conv1D\n",
    "from tensorflow.keras.models import Sequential\n",
    "from tensorflow.keras.layers import Input\n",
    "from tensorflow.keras.models import Model"
   ]
  },
  {
   "cell_type": "markdown",
   "metadata": {},
   "source": [
    "# Importing Dataset"
   ]
  },
  {
   "cell_type": "code",
   "execution_count": 4,
   "metadata": {},
   "outputs": [
    {
     "name": "stdout",
     "output_type": "stream",
     "text": [
      "Failed to download the file.\n"
     ]
    }
   ],
   "source": [
    "url = \"http://data.phishtank.com/data/online-valid.csv\"\n",
    "response = requests.get(url)\n",
    "\n",
    "if response.status_code == 200:\n",
    "    with open(\"online-valid.csv\", \"wb\") as f:\n",
    "        f.write(response.content)\n",
    "    print(\"File downloaded successfully.\")\n",
    "else:\n",
    "    print(\"Failed to download the file.\")\n"
   ]
  },
  {
   "cell_type": "code",
   "execution_count": 5,
   "metadata": {},
   "outputs": [
    {
     "data": {
      "text/html": [
       "<div>\n",
       "<style scoped>\n",
       "    .dataframe tbody tr th:only-of-type {\n",
       "        vertical-align: middle;\n",
       "    }\n",
       "\n",
       "    .dataframe tbody tr th {\n",
       "        vertical-align: top;\n",
       "    }\n",
       "\n",
       "    .dataframe thead th {\n",
       "        text-align: right;\n",
       "    }\n",
       "</style>\n",
       "<table border=\"1\" class=\"dataframe\">\n",
       "  <thead>\n",
       "    <tr style=\"text-align: right;\">\n",
       "      <th></th>\n",
       "      <th>phish_id</th>\n",
       "      <th>url</th>\n",
       "      <th>phish_detail_url</th>\n",
       "      <th>submission_time</th>\n",
       "      <th>verified</th>\n",
       "      <th>verification_time</th>\n",
       "      <th>online</th>\n",
       "      <th>target</th>\n",
       "    </tr>\n",
       "  </thead>\n",
       "  <tbody>\n",
       "    <tr>\n",
       "      <th>0</th>\n",
       "      <td>8265749</td>\n",
       "      <td>http://www.paxful-terms.online.sti-int.top</td>\n",
       "      <td>http://www.phishtank.com/phish_detail.php?phis...</td>\n",
       "      <td>2023-08-19T12:01:42+00:00</td>\n",
       "      <td>yes</td>\n",
       "      <td>2023-08-19T12:03:45+00:00</td>\n",
       "      <td>yes</td>\n",
       "      <td>Other</td>\n",
       "    </tr>\n",
       "    <tr>\n",
       "      <th>1</th>\n",
       "      <td>8265747</td>\n",
       "      <td>https://secondary.obec.go.th/mathayom/evaluati...</td>\n",
       "      <td>http://www.phishtank.com/phish_detail.php?phis...</td>\n",
       "      <td>2023-08-19T11:58:44+00:00</td>\n",
       "      <td>yes</td>\n",
       "      <td>2023-08-19T12:12:47+00:00</td>\n",
       "      <td>yes</td>\n",
       "      <td>Other</td>\n",
       "    </tr>\n",
       "    <tr>\n",
       "      <th>2</th>\n",
       "      <td>8265746</td>\n",
       "      <td>https://f5lrvwt.r.us-east-1.awstrack.me/L0/htt...</td>\n",
       "      <td>http://www.phishtank.com/phish_detail.php?phis...</td>\n",
       "      <td>2023-08-19T11:58:43+00:00</td>\n",
       "      <td>yes</td>\n",
       "      <td>2023-08-19T12:03:46+00:00</td>\n",
       "      <td>yes</td>\n",
       "      <td>Other</td>\n",
       "    </tr>\n",
       "    <tr>\n",
       "      <th>3</th>\n",
       "      <td>8265744</td>\n",
       "      <td>https://swisspasshilfeservice.sviluppo.host/lo...</td>\n",
       "      <td>http://www.phishtank.com/phish_detail.php?phis...</td>\n",
       "      <td>2023-08-19T11:58:32+00:00</td>\n",
       "      <td>yes</td>\n",
       "      <td>2023-08-19T12:03:46+00:00</td>\n",
       "      <td>yes</td>\n",
       "      <td>Other</td>\n",
       "    </tr>\n",
       "    <tr>\n",
       "      <th>4</th>\n",
       "      <td>8265742</td>\n",
       "      <td>https://anibis.ecommepce.online/fr/851984</td>\n",
       "      <td>http://www.phishtank.com/phish_detail.php?phis...</td>\n",
       "      <td>2023-08-19T11:51:35+00:00</td>\n",
       "      <td>yes</td>\n",
       "      <td>2023-08-19T12:03:46+00:00</td>\n",
       "      <td>yes</td>\n",
       "      <td>Other</td>\n",
       "    </tr>\n",
       "  </tbody>\n",
       "</table>\n",
       "</div>"
      ],
      "text/plain": [
       "   phish_id                                                url  \\\n",
       "0   8265749         http://www.paxful-terms.online.sti-int.top   \n",
       "1   8265747  https://secondary.obec.go.th/mathayom/evaluati...   \n",
       "2   8265746  https://f5lrvwt.r.us-east-1.awstrack.me/L0/htt...   \n",
       "3   8265744  https://swisspasshilfeservice.sviluppo.host/lo...   \n",
       "4   8265742          https://anibis.ecommepce.online/fr/851984   \n",
       "\n",
       "                                    phish_detail_url  \\\n",
       "0  http://www.phishtank.com/phish_detail.php?phis...   \n",
       "1  http://www.phishtank.com/phish_detail.php?phis...   \n",
       "2  http://www.phishtank.com/phish_detail.php?phis...   \n",
       "3  http://www.phishtank.com/phish_detail.php?phis...   \n",
       "4  http://www.phishtank.com/phish_detail.php?phis...   \n",
       "\n",
       "             submission_time verified          verification_time online target  \n",
       "0  2023-08-19T12:01:42+00:00      yes  2023-08-19T12:03:45+00:00    yes  Other  \n",
       "1  2023-08-19T11:58:44+00:00      yes  2023-08-19T12:12:47+00:00    yes  Other  \n",
       "2  2023-08-19T11:58:43+00:00      yes  2023-08-19T12:03:46+00:00    yes  Other  \n",
       "3  2023-08-19T11:58:32+00:00      yes  2023-08-19T12:03:46+00:00    yes  Other  \n",
       "4  2023-08-19T11:51:35+00:00      yes  2023-08-19T12:03:46+00:00    yes  Other  "
      ]
     },
     "execution_count": 5,
     "metadata": {},
     "output_type": "execute_result"
    }
   ],
   "source": [
    "data0 = pd.read_csv(\"online-valid.csv\")\n",
    "data0.head()"
   ]
  },
  {
   "cell_type": "markdown",
   "metadata": {},
   "source": [
    "# EDA"
   ]
  },
  {
   "cell_type": "code",
   "execution_count": 6,
   "metadata": {},
   "outputs": [
    {
     "data": {
      "text/plain": [
       "(101420, 8)"
      ]
     },
     "execution_count": 6,
     "metadata": {},
     "output_type": "execute_result"
    }
   ],
   "source": [
    "data0.shape"
   ]
  },
  {
   "cell_type": "code",
   "execution_count": 7,
   "metadata": {},
   "outputs": [
    {
     "data": {
      "text/html": [
       "<div>\n",
       "<style scoped>\n",
       "    .dataframe tbody tr th:only-of-type {\n",
       "        vertical-align: middle;\n",
       "    }\n",
       "\n",
       "    .dataframe tbody tr th {\n",
       "        vertical-align: top;\n",
       "    }\n",
       "\n",
       "    .dataframe thead th {\n",
       "        text-align: right;\n",
       "    }\n",
       "</style>\n",
       "<table border=\"1\" class=\"dataframe\">\n",
       "  <thead>\n",
       "    <tr style=\"text-align: right;\">\n",
       "      <th></th>\n",
       "      <th>phish_id</th>\n",
       "      <th>url</th>\n",
       "      <th>phish_detail_url</th>\n",
       "      <th>submission_time</th>\n",
       "      <th>verified</th>\n",
       "      <th>verification_time</th>\n",
       "      <th>online</th>\n",
       "      <th>target</th>\n",
       "    </tr>\n",
       "  </thead>\n",
       "  <tbody>\n",
       "    <tr>\n",
       "      <th>0</th>\n",
       "      <td>8022895</td>\n",
       "      <td>https://fic0sahondur4s--ficohsa009212.repl.co/</td>\n",
       "      <td>http://www.phishtank.com/phish_detail.php?phis...</td>\n",
       "      <td>2023-02-01T15:01:34+00:00</td>\n",
       "      <td>yes</td>\n",
       "      <td>2023-02-01T15:33:06+00:00</td>\n",
       "      <td>yes</td>\n",
       "      <td>Other</td>\n",
       "    </tr>\n",
       "    <tr>\n",
       "      <th>1</th>\n",
       "      <td>8213645</td>\n",
       "      <td>https://k.13-50-176-130.cprapid.com/</td>\n",
       "      <td>http://www.phishtank.com/phish_detail.php?phis...</td>\n",
       "      <td>2023-07-05T23:35:24+00:00</td>\n",
       "      <td>yes</td>\n",
       "      <td>2023-07-05T23:43:09+00:00</td>\n",
       "      <td>yes</td>\n",
       "      <td>Poste Italiane</td>\n",
       "    </tr>\n",
       "    <tr>\n",
       "      <th>2</th>\n",
       "      <td>8065676</td>\n",
       "      <td>https://dqbeyoyqzu.duckdns.org/</td>\n",
       "      <td>http://www.phishtank.com/phish_detail.php?phis...</td>\n",
       "      <td>2023-03-08T06:49:19+00:00</td>\n",
       "      <td>yes</td>\n",
       "      <td>2023-03-08T06:54:39+00:00</td>\n",
       "      <td>yes</td>\n",
       "      <td>Other</td>\n",
       "    </tr>\n",
       "    <tr>\n",
       "      <th>3</th>\n",
       "      <td>8079778</td>\n",
       "      <td>https://www.ae0n-bamk.co-jp.hubincs.com/beon/c...</td>\n",
       "      <td>http://www.phishtank.com/phish_detail.php?phis...</td>\n",
       "      <td>2023-03-17T18:32:18+00:00</td>\n",
       "      <td>yes</td>\n",
       "      <td>2023-03-17T18:44:49+00:00</td>\n",
       "      <td>yes</td>\n",
       "      <td>AEON Card</td>\n",
       "    </tr>\n",
       "    <tr>\n",
       "      <th>4</th>\n",
       "      <td>7991823</td>\n",
       "      <td>https://emailverificationupdate78.godaddysites...</td>\n",
       "      <td>http://www.phishtank.com/phish_detail.php?phis...</td>\n",
       "      <td>2023-01-02T02:35:29+00:00</td>\n",
       "      <td>yes</td>\n",
       "      <td>2023-01-02T02:42:42+00:00</td>\n",
       "      <td>yes</td>\n",
       "      <td>Other</td>\n",
       "    </tr>\n",
       "  </tbody>\n",
       "</table>\n",
       "</div>"
      ],
      "text/plain": [
       "   phish_id                                                url  \\\n",
       "0   8022895     https://fic0sahondur4s--ficohsa009212.repl.co/   \n",
       "1   8213645               https://k.13-50-176-130.cprapid.com/   \n",
       "2   8065676                    https://dqbeyoyqzu.duckdns.org/   \n",
       "3   8079778  https://www.ae0n-bamk.co-jp.hubincs.com/beon/c...   \n",
       "4   7991823  https://emailverificationupdate78.godaddysites...   \n",
       "\n",
       "                                    phish_detail_url  \\\n",
       "0  http://www.phishtank.com/phish_detail.php?phis...   \n",
       "1  http://www.phishtank.com/phish_detail.php?phis...   \n",
       "2  http://www.phishtank.com/phish_detail.php?phis...   \n",
       "3  http://www.phishtank.com/phish_detail.php?phis...   \n",
       "4  http://www.phishtank.com/phish_detail.php?phis...   \n",
       "\n",
       "             submission_time verified          verification_time online  \\\n",
       "0  2023-02-01T15:01:34+00:00      yes  2023-02-01T15:33:06+00:00    yes   \n",
       "1  2023-07-05T23:35:24+00:00      yes  2023-07-05T23:43:09+00:00    yes   \n",
       "2  2023-03-08T06:49:19+00:00      yes  2023-03-08T06:54:39+00:00    yes   \n",
       "3  2023-03-17T18:32:18+00:00      yes  2023-03-17T18:44:49+00:00    yes   \n",
       "4  2023-01-02T02:35:29+00:00      yes  2023-01-02T02:42:42+00:00    yes   \n",
       "\n",
       "           target  \n",
       "0           Other  \n",
       "1  Poste Italiane  \n",
       "2           Other  \n",
       "3       AEON Card  \n",
       "4           Other  "
      ]
     },
     "execution_count": 7,
     "metadata": {},
     "output_type": "execute_result"
    }
   ],
   "source": [
    "phishurl = data0.sample(n = 5000, random_state = 12).copy()\n",
    "phishurl = phishurl.reset_index(drop=True)\n",
    "phishurl.head()"
   ]
  },
  {
   "cell_type": "markdown",
   "metadata": {},
   "source": [
    "# We do not have Legitimate URLS so as per base paper we have added curlie dataset"
   ]
  },
  {
   "cell_type": "code",
   "execution_count": 8,
   "metadata": {},
   "outputs": [
    {
     "data": {
      "text/html": [
       "<div>\n",
       "<style scoped>\n",
       "    .dataframe tbody tr th:only-of-type {\n",
       "        vertical-align: middle;\n",
       "    }\n",
       "\n",
       "    .dataframe tbody tr th {\n",
       "        vertical-align: top;\n",
       "    }\n",
       "\n",
       "    .dataframe thead th {\n",
       "        text-align: right;\n",
       "    }\n",
       "</style>\n",
       "<table border=\"1\" class=\"dataframe\">\n",
       "  <thead>\n",
       "    <tr style=\"text-align: right;\">\n",
       "      <th></th>\n",
       "      <th>URLs</th>\n",
       "    </tr>\n",
       "  </thead>\n",
       "  <tbody>\n",
       "    <tr>\n",
       "      <th>0</th>\n",
       "      <td>http://1337x.to/torrent/1110018/Blackhat-2015-...</td>\n",
       "    </tr>\n",
       "    <tr>\n",
       "      <th>1</th>\n",
       "      <td>http://1337x.to/torrent/1122940/Blackhat-2015-...</td>\n",
       "    </tr>\n",
       "    <tr>\n",
       "      <th>2</th>\n",
       "      <td>http://1337x.to/torrent/1124395/Fast-and-Furio...</td>\n",
       "    </tr>\n",
       "    <tr>\n",
       "      <th>3</th>\n",
       "      <td>http://1337x.to/torrent/1145504/Avengers-Age-o...</td>\n",
       "    </tr>\n",
       "    <tr>\n",
       "      <th>4</th>\n",
       "      <td>http://1337x.to/torrent/1160078/Avengers-age-o...</td>\n",
       "    </tr>\n",
       "  </tbody>\n",
       "</table>\n",
       "</div>"
      ],
      "text/plain": [
       "                                                URLs\n",
       "0  http://1337x.to/torrent/1110018/Blackhat-2015-...\n",
       "1  http://1337x.to/torrent/1122940/Blackhat-2015-...\n",
       "2  http://1337x.to/torrent/1124395/Fast-and-Furio...\n",
       "3  http://1337x.to/torrent/1145504/Avengers-Age-o...\n",
       "4  http://1337x.to/torrent/1160078/Avengers-age-o..."
      ]
     },
     "execution_count": 8,
     "metadata": {},
     "output_type": "execute_result"
    }
   ],
   "source": [
    "data1 = pd.read_csv(\"Curlie.csv\")\n",
    "data1.columns = ['URLs']\n",
    "data1.head()"
   ]
  },
  {
   "cell_type": "code",
   "execution_count": 9,
   "metadata": {},
   "outputs": [
    {
     "data": {
      "text/plain": [
       "(35377, 1)"
      ]
     },
     "execution_count": 9,
     "metadata": {},
     "output_type": "execute_result"
    }
   ],
   "source": [
    "data1.shape"
   ]
  },
  {
   "cell_type": "code",
   "execution_count": 10,
   "metadata": {},
   "outputs": [
    {
     "data": {
      "text/html": [
       "<div>\n",
       "<style scoped>\n",
       "    .dataframe tbody tr th:only-of-type {\n",
       "        vertical-align: middle;\n",
       "    }\n",
       "\n",
       "    .dataframe tbody tr th {\n",
       "        vertical-align: top;\n",
       "    }\n",
       "\n",
       "    .dataframe thead th {\n",
       "        text-align: right;\n",
       "    }\n",
       "</style>\n",
       "<table border=\"1\" class=\"dataframe\">\n",
       "  <thead>\n",
       "    <tr style=\"text-align: right;\">\n",
       "      <th></th>\n",
       "      <th>URLs</th>\n",
       "    </tr>\n",
       "  </thead>\n",
       "  <tbody>\n",
       "    <tr>\n",
       "      <th>0</th>\n",
       "      <td>http://graphicriver.net/search?date=this-month...</td>\n",
       "    </tr>\n",
       "    <tr>\n",
       "      <th>1</th>\n",
       "      <td>http://ecnavi.jp/redirect/?url=http://www.cros...</td>\n",
       "    </tr>\n",
       "    <tr>\n",
       "      <th>2</th>\n",
       "      <td>https://hubpages.com/signin?explain=follow+Hub...</td>\n",
       "    </tr>\n",
       "    <tr>\n",
       "      <th>3</th>\n",
       "      <td>http://extratorrent.cc/torrent/4190536/AOMEI+B...</td>\n",
       "    </tr>\n",
       "    <tr>\n",
       "      <th>4</th>\n",
       "      <td>http://icicibank.com/Personal-Banking/offers/o...</td>\n",
       "    </tr>\n",
       "  </tbody>\n",
       "</table>\n",
       "</div>"
      ],
      "text/plain": [
       "                                                URLs\n",
       "0  http://graphicriver.net/search?date=this-month...\n",
       "1  http://ecnavi.jp/redirect/?url=http://www.cros...\n",
       "2  https://hubpages.com/signin?explain=follow+Hub...\n",
       "3  http://extratorrent.cc/torrent/4190536/AOMEI+B...\n",
       "4  http://icicibank.com/Personal-Banking/offers/o..."
      ]
     },
     "execution_count": 10,
     "metadata": {},
     "output_type": "execute_result"
    }
   ],
   "source": [
    "legiurl = data1.sample(n = 5000, random_state = 12).copy()\n",
    "legiurl = legiurl.reset_index(drop=True)\n",
    "legiurl.head()"
   ]
  },
  {
   "cell_type": "markdown",
   "metadata": {},
   "source": [
    "# Feature Extraction"
   ]
  },
  {
   "cell_type": "markdown",
   "metadata": {},
   "source": [
    "1. Address Bar Based Features\n",
    "Several features can be extracted that can be consided as address bar base features. Out of them, the following parameters were considered for this particular project\n",
    "\n",
    "Domain of URL\n",
    "IP Address in URL\n",
    "\"@\" Symbol in URL\n",
    "Length of URL\n",
    "Depth of URL\n",
    "Redirection \"//\" in URL\n",
    "\"http/https\" in Domain name\n",
    "Using URL Shortening Services “TinyURL”\n",
    "Prefix or Suffix \"-\" in Domain"
   ]
  },
  {
   "cell_type": "code",
   "execution_count": 11,
   "metadata": {},
   "outputs": [],
   "source": [
    "def getDomain(url):  \n",
    "  domain = urlparse(url).netloc\n",
    "  if re.match(r\"^www.\",domain):\n",
    "\t       domain = domain.replace(\"www.\",\"\")\n",
    "  return domain\n",
    "\n",
    "def havingIP(url):\n",
    "  try:\n",
    "    ipaddress.ip_address(url)\n",
    "    ip = 1\n",
    "  except:\n",
    "    ip = 0\n",
    "  return ip\n",
    "\n",
    "def haveAtSign(url):\n",
    "  if \"@\" in url:\n",
    "    at = 1    \n",
    "  else:\n",
    "    at = 0    \n",
    "  return at\n",
    "\n",
    "def getLength(url):\n",
    "  if len(url) < 54:\n",
    "    length = 0            \n",
    "  else:\n",
    "    length = 1            \n",
    "  return length\n",
    "\n",
    "def getDepth(url):\n",
    "  s = urlparse(url).path.split('/')\n",
    "  depth = 0\n",
    "  for j in range(len(s)):\n",
    "    if len(s[j]) != 0:\n",
    "      depth = depth+1\n",
    "  return depth\n",
    "\n",
    "def redirection(url):\n",
    "  pos = url.rfind('//')\n",
    "  if pos > 6:\n",
    "    if pos > 7:\n",
    "      return 1\n",
    "    else:\n",
    "      return 0\n",
    "  else:\n",
    "    return 0\n",
    "\n",
    "def httpDomain(url):\n",
    "  domain = urlparse(url).netloc\n",
    "  if 'https' in domain:\n",
    "    return 1\n",
    "  else:\n",
    "    return 0\n",
    "\n",
    "shortening_services = r\"bit\\.ly|goo\\.gl|shorte\\.st|go2l\\.ink|x\\.co|ow\\.ly|t\\.co|tinyurl|tr\\.im|is\\.gd|cli\\.gs|\" \\\n",
    "                      r\"yfrog\\.com|migre\\.me|ff\\.im|tiny\\.cc|url4\\.eu|twit\\.ac|su\\.pr|twurl\\.nl|snipurl\\.com|\" \\\n",
    "                      r\"short\\.to|BudURL\\.com|ping\\.fm|post\\.ly|Just\\.as|bkite\\.com|snipr\\.com|fic\\.kr|loopt\\.us|\" \\\n",
    "                      r\"doiop\\.com|short\\.ie|kl\\.am|wp\\.me|rubyurl\\.com|om\\.ly|to\\.ly|bit\\.do|t\\.co|lnkd\\.in|db\\.tt|\" \\\n",
    "                      r\"qr\\.ae|adf\\.ly|goo\\.gl|bitly\\.com|cur\\.lv|tinyurl\\.com|ow\\.ly|bit\\.ly|ity\\.im|q\\.gs|is\\.gd|\" \\\n",
    "                      r\"po\\.st|bc\\.vc|twitthis\\.com|u\\.to|j\\.mp|buzurl\\.com|cutt\\.us|u\\.bb|yourls\\.org|x\\.co|\" \\\n",
    "                      r\"prettylinkpro\\.com|scrnch\\.me|filoops\\.info|vzturl\\.com|qr\\.net|1url\\.com|tweez\\.me|v\\.gd|\" \\\n",
    "                      r\"tr\\.im|link\\.zip\\.net\"\n",
    "\n",
    "def tinyURL(url):\n",
    "    match=re.search(shortening_services,url)\n",
    "    if match:\n",
    "        return 1\n",
    "    else:\n",
    "        return 0\n",
    "    \n",
    "def prefixSuffix(url):\n",
    "    if '-' in urlparse(url).netloc:\n",
    "        return 1            # phishing\n",
    "    else:\n",
    "        return 0"
   ]
  },
  {
   "cell_type": "markdown",
   "metadata": {},
   "source": [
    "2 . Domain Based Features\n",
    "\n",
    "Many features can be extracted that come under this category. Out of them, below mentioned were considered for this project.\n",
    "\n",
    "DNS Record\n",
    "Website Traffic\n",
    "Age of Domain\n",
    "End Period of Domain"
   ]
  },
  {
   "cell_type": "code",
   "execution_count": 12,
   "metadata": {},
   "outputs": [],
   "source": [
    "def web_traffic(url):\n",
    "    try:\n",
    "        # Filling the whitespaces in the URL if any\n",
    "        url = urllib.parse.quote(url)\n",
    "        \n",
    "        response = urllib.request.urlopen(\"http://data.alexa.com/data?cli=10&dat=s&url=\" + url)\n",
    "        soup = BeautifulSoup(response.read(), \"xml\")\n",
    "        \n",
    "        reach_tag = soup.find(\"REACH\")\n",
    "        \n",
    "        if reach_tag is None:\n",
    "            return 1\n",
    "        \n",
    "        rank = reach_tag.get('RANK')\n",
    "        \n",
    "        try:\n",
    "            rank = int(rank)\n",
    "        except ValueError:\n",
    "            return 1\n",
    "        \n",
    "        if rank < 100000:\n",
    "            return 1\n",
    "        else:\n",
    "            return 0\n",
    "    except Exception:\n",
    "        return 1  # Handle exceptions gracefully\n",
    "    \n",
    "    \n",
    "def domainAge(domain_name):\n",
    "  creation_date = domain_name.creation_date\n",
    "  expiration_date = domain_name.expiration_date\n",
    "  if (isinstance(creation_date,str) or isinstance(expiration_date,str)):\n",
    "    try:\n",
    "      creation_date = datetime.strptime(creation_date,'%Y-%m-%d')\n",
    "      expiration_date = datetime.strptime(expiration_date,\"%Y-%m-%d\")\n",
    "    except:\n",
    "      return 1\n",
    "  if ((expiration_date is None) or (creation_date is None)):\n",
    "      return 1\n",
    "  elif ((type(expiration_date) is list) or (type(creation_date) is list)):\n",
    "      return 1\n",
    "  else:\n",
    "    ageofdomain = abs((expiration_date - creation_date).days)\n",
    "    if ((ageofdomain/30) < 6):\n",
    "      age = 1\n",
    "    else:\n",
    "      age = 0\n",
    "  return age\n",
    "\n",
    "def domainEnd(domain_name):\n",
    "  expiration_date = domain_name.expiration_date\n",
    "  if isinstance(expiration_date,str):\n",
    "    try:\n",
    "      expiration_date = datetime.strptime(expiration_date,\"%Y-%m-%d\")\n",
    "    except:\n",
    "      return 1\n",
    "  if (expiration_date is None):\n",
    "      return 1\n",
    "  elif (type(expiration_date) is list):\n",
    "      return 1\n",
    "  else:\n",
    "    today = datetime.now()\n",
    "    end = abs((expiration_date - today).days)\n",
    "    if ((end/30) < 6):\n",
    "      end = 0\n",
    "    else:\n",
    "      end = 1\n",
    "  return end"
   ]
  },
  {
   "cell_type": "markdown",
   "metadata": {},
   "source": [
    "3 . HTML and JavaScript based Features\n",
    "\n",
    "Many features can be extracted that come under this category. Out of them, below mentioned were considered for this project.\n",
    "\n",
    "IFrame Redirection\n",
    "Status Bar Customization\n",
    "Disabling Right Click\n",
    "Website Forwarding"
   ]
  },
  {
   "cell_type": "code",
   "execution_count": 13,
   "metadata": {},
   "outputs": [],
   "source": [
    "def iframe(response):\n",
    "  if response == \"\":\n",
    "      return 1\n",
    "  else:\n",
    "      if re.findall(r\"[<iframe>|<frameBorder>]\", response.text):\n",
    "          return 0\n",
    "      else:\n",
    "          return 1\n",
    "    \n",
    "def mouseOver(response): \n",
    "  if response == \"\" :\n",
    "    return 1\n",
    "  else:\n",
    "    if re.findall(\"<script>.+onmouseover.+</script>\", response.text):\n",
    "      return 1\n",
    "    else:\n",
    "      return 0\n",
    "\n",
    "def rightClick(response):\n",
    "  if response == \"\":\n",
    "    return 1\n",
    "  else:\n",
    "    if re.findall(r\"event.button ?== ?2\", response.text):\n",
    "      return 0\n",
    "    else:\n",
    "      return 1\n",
    "\n",
    "def forwarding(response):\n",
    "  if response == \"\":\n",
    "    return 1\n",
    "  else:\n",
    "    if len(response.history) <= 2:\n",
    "      return 0\n",
    "    else:\n",
    "      return 1"
   ]
  },
  {
   "cell_type": "markdown",
   "metadata": {},
   "source": [
    "4.Computing URL Features"
   ]
  },
  {
   "cell_type": "code",
   "execution_count": 14,
   "metadata": {},
   "outputs": [],
   "source": [
    "def featureExtraction(url,label):\n",
    "\n",
    "  features = []\n",
    "  #Address bar based features (10)\n",
    "  features.append(getDomain(url))\n",
    "  features.append(havingIP(url))\n",
    "  features.append(haveAtSign(url))\n",
    "  features.append(getLength(url))\n",
    "  features.append(getDepth(url))\n",
    "  features.append(redirection(url))\n",
    "  features.append(httpDomain(url))\n",
    "  features.append(tinyURL(url))\n",
    "  features.append(prefixSuffix(url))\n",
    "  \n",
    "  #Domain based features (4)\n",
    "  dns = 0\n",
    "  try:\n",
    "    domain_name = whois.whois(urlparse(url).netloc)\n",
    "  except:\n",
    "    dns = 1\n",
    "\n",
    "  features.append(dns)\n",
    "  features.append(web_traffic(url))\n",
    "  features.append(1 if dns == 1 else domainAge(domain_name))\n",
    "  features.append(1 if dns == 1 else domainEnd(domain_name))\n",
    "  \n",
    "  # HTML & Javascript based features (4)\n",
    "  try:\n",
    "    response = requests.get(url)\n",
    "  except:\n",
    "    response = \"\"\n",
    "  features.append(iframe(response))\n",
    "  features.append(mouseOver(response))\n",
    "  features.append(rightClick(response))\n",
    "  features.append(forwarding(response))\n",
    "  features.append(label)\n",
    "  \n",
    "  return features"
   ]
  },
  {
   "cell_type": "markdown",
   "metadata": {},
   "source": [
    "# Legitimate Websites feature extraction"
   ]
  },
  {
   "cell_type": "code",
   "execution_count": 15,
   "metadata": {},
   "outputs": [],
   "source": [
    "legi_features = []\n",
    "for i in range(min(5000, len(legiurl['URLs']))):\n",
    "    extracted_features = featureExtraction(legiurl['URLs'][i], 0)\n",
    "    legi_features.append(extracted_features)"
   ]
  },
  {
   "cell_type": "code",
   "execution_count": 16,
   "metadata": {},
   "outputs": [],
   "source": [
    "feature_names = ['Domain', 'Have_IP', 'Have_At', 'URL_Length', 'URL_Depth','Redirection', \n",
    "                      'https_Domain', 'TinyURL', 'Prefix/Suffix', 'DNS_Record', 'Web_Traffic', \n",
    "                      'Domain_Age', 'Domain_End', 'iFrame', 'Mouse_Over','Right_Click', 'Web_Forwards', 'Label']\n",
    "\n",
    "legitimate = pd.DataFrame(legi_features, columns= feature_names)"
   ]
  },
  {
   "cell_type": "code",
   "execution_count": 17,
   "metadata": {},
   "outputs": [],
   "source": [
    "legitimate.to_csv('legitimate.csv', index= False)"
   ]
  },
  {
   "cell_type": "markdown",
   "metadata": {},
   "source": [
    "# Phishing Websites Feature Selection"
   ]
  },
  {
   "cell_type": "code",
   "execution_count": 18,
   "metadata": {},
   "outputs": [],
   "source": [
    "phish_features = []\n",
    "for i in range(min(5000, len(phishurl['url']))):\n",
    "    extracted_features = featureExtraction(phishurl['url'][i], 1)\n",
    "    phish_features.append(extracted_features)"
   ]
  },
  {
   "cell_type": "code",
   "execution_count": 19,
   "metadata": {},
   "outputs": [],
   "source": [
    "feature_names = ['Domain', 'Have_IP', 'Have_At', 'URL_Length', 'URL_Depth','Redirection', \n",
    "                      'https_Domain', 'TinyURL', 'Prefix/Suffix', 'DNS_Record', 'Web_Traffic', \n",
    "                      'Domain_Age', 'Domain_End', 'iFrame', 'Mouse_Over','Right_Click', 'Web_Forwards', 'Label']\n",
    "\n",
    "phishing = pd.DataFrame(phish_features, columns= feature_names)"
   ]
  },
  {
   "cell_type": "code",
   "execution_count": 20,
   "metadata": {},
   "outputs": [],
   "source": [
    "phishing.to_csv('phishing.csv', index= False)"
   ]
  },
  {
   "cell_type": "markdown",
   "metadata": {},
   "source": [
    "# Combining"
   ]
  },
  {
   "cell_type": "code",
   "execution_count": 21,
   "metadata": {},
   "outputs": [],
   "source": [
    "legitimate = pd.read_csv('legitimate.csv')\n",
    "phishing = pd.read_csv('phishing.csv')"
   ]
  },
  {
   "cell_type": "code",
   "execution_count": 22,
   "metadata": {},
   "outputs": [
    {
     "data": {
      "text/html": [
       "<div>\n",
       "<style scoped>\n",
       "    .dataframe tbody tr th:only-of-type {\n",
       "        vertical-align: middle;\n",
       "    }\n",
       "\n",
       "    .dataframe tbody tr th {\n",
       "        vertical-align: top;\n",
       "    }\n",
       "\n",
       "    .dataframe thead th {\n",
       "        text-align: right;\n",
       "    }\n",
       "</style>\n",
       "<table border=\"1\" class=\"dataframe\">\n",
       "  <thead>\n",
       "    <tr style=\"text-align: right;\">\n",
       "      <th></th>\n",
       "      <th>Domain</th>\n",
       "      <th>Have_IP</th>\n",
       "      <th>Have_At</th>\n",
       "      <th>URL_Length</th>\n",
       "      <th>URL_Depth</th>\n",
       "      <th>Redirection</th>\n",
       "      <th>https_Domain</th>\n",
       "      <th>TinyURL</th>\n",
       "      <th>Prefix/Suffix</th>\n",
       "      <th>DNS_Record</th>\n",
       "      <th>Web_Traffic</th>\n",
       "      <th>Domain_Age</th>\n",
       "      <th>Domain_End</th>\n",
       "      <th>iFrame</th>\n",
       "      <th>Mouse_Over</th>\n",
       "      <th>Right_Click</th>\n",
       "      <th>Web_Forwards</th>\n",
       "      <th>Label</th>\n",
       "    </tr>\n",
       "  </thead>\n",
       "  <tbody>\n",
       "    <tr>\n",
       "      <th>0</th>\n",
       "      <td>graphicriver.net</td>\n",
       "      <td>0</td>\n",
       "      <td>0</td>\n",
       "      <td>1</td>\n",
       "      <td>1</td>\n",
       "      <td>0</td>\n",
       "      <td>0</td>\n",
       "      <td>0</td>\n",
       "      <td>0</td>\n",
       "      <td>1</td>\n",
       "      <td>1</td>\n",
       "      <td>1</td>\n",
       "      <td>1</td>\n",
       "      <td>0</td>\n",
       "      <td>0</td>\n",
       "      <td>1</td>\n",
       "      <td>0</td>\n",
       "      <td>0</td>\n",
       "    </tr>\n",
       "    <tr>\n",
       "      <th>1</th>\n",
       "      <td>ecnavi.jp</td>\n",
       "      <td>0</td>\n",
       "      <td>0</td>\n",
       "      <td>1</td>\n",
       "      <td>1</td>\n",
       "      <td>1</td>\n",
       "      <td>0</td>\n",
       "      <td>0</td>\n",
       "      <td>0</td>\n",
       "      <td>1</td>\n",
       "      <td>1</td>\n",
       "      <td>1</td>\n",
       "      <td>1</td>\n",
       "      <td>0</td>\n",
       "      <td>0</td>\n",
       "      <td>1</td>\n",
       "      <td>0</td>\n",
       "      <td>0</td>\n",
       "    </tr>\n",
       "    <tr>\n",
       "      <th>2</th>\n",
       "      <td>hubpages.com</td>\n",
       "      <td>0</td>\n",
       "      <td>0</td>\n",
       "      <td>1</td>\n",
       "      <td>1</td>\n",
       "      <td>0</td>\n",
       "      <td>0</td>\n",
       "      <td>0</td>\n",
       "      <td>0</td>\n",
       "      <td>1</td>\n",
       "      <td>1</td>\n",
       "      <td>1</td>\n",
       "      <td>1</td>\n",
       "      <td>0</td>\n",
       "      <td>0</td>\n",
       "      <td>1</td>\n",
       "      <td>0</td>\n",
       "      <td>0</td>\n",
       "    </tr>\n",
       "    <tr>\n",
       "      <th>3</th>\n",
       "      <td>extratorrent.cc</td>\n",
       "      <td>0</td>\n",
       "      <td>0</td>\n",
       "      <td>1</td>\n",
       "      <td>3</td>\n",
       "      <td>0</td>\n",
       "      <td>0</td>\n",
       "      <td>0</td>\n",
       "      <td>0</td>\n",
       "      <td>1</td>\n",
       "      <td>1</td>\n",
       "      <td>1</td>\n",
       "      <td>1</td>\n",
       "      <td>1</td>\n",
       "      <td>1</td>\n",
       "      <td>1</td>\n",
       "      <td>1</td>\n",
       "      <td>0</td>\n",
       "    </tr>\n",
       "    <tr>\n",
       "      <th>4</th>\n",
       "      <td>icicibank.com</td>\n",
       "      <td>0</td>\n",
       "      <td>0</td>\n",
       "      <td>1</td>\n",
       "      <td>3</td>\n",
       "      <td>0</td>\n",
       "      <td>0</td>\n",
       "      <td>0</td>\n",
       "      <td>0</td>\n",
       "      <td>1</td>\n",
       "      <td>1</td>\n",
       "      <td>1</td>\n",
       "      <td>1</td>\n",
       "      <td>0</td>\n",
       "      <td>0</td>\n",
       "      <td>1</td>\n",
       "      <td>0</td>\n",
       "      <td>0</td>\n",
       "    </tr>\n",
       "  </tbody>\n",
       "</table>\n",
       "</div>"
      ],
      "text/plain": [
       "             Domain  Have_IP  Have_At  URL_Length  URL_Depth  Redirection  \\\n",
       "0  graphicriver.net        0        0           1          1            0   \n",
       "1         ecnavi.jp        0        0           1          1            1   \n",
       "2      hubpages.com        0        0           1          1            0   \n",
       "3   extratorrent.cc        0        0           1          3            0   \n",
       "4     icicibank.com        0        0           1          3            0   \n",
       "\n",
       "   https_Domain  TinyURL  Prefix/Suffix  DNS_Record  Web_Traffic  Domain_Age  \\\n",
       "0             0        0              0           1            1           1   \n",
       "1             0        0              0           1            1           1   \n",
       "2             0        0              0           1            1           1   \n",
       "3             0        0              0           1            1           1   \n",
       "4             0        0              0           1            1           1   \n",
       "\n",
       "   Domain_End  iFrame  Mouse_Over  Right_Click  Web_Forwards  Label  \n",
       "0           1       0           0            1             0      0  \n",
       "1           1       0           0            1             0      0  \n",
       "2           1       0           0            1             0      0  \n",
       "3           1       1           1            1             1      0  \n",
       "4           1       0           0            1             0      0  "
      ]
     },
     "execution_count": 22,
     "metadata": {},
     "output_type": "execute_result"
    }
   ],
   "source": [
    "data = pd.concat([legitimate, phishing]).reset_index(drop=True)\n",
    "data.head()"
   ]
  },
  {
   "cell_type": "code",
   "execution_count": 23,
   "metadata": {},
   "outputs": [
    {
     "data": {
      "image/png": "[encoded data removed]",
      "text/plain": [
       "<Figure size 1728x1296 with 20 Axes>"
      ]
     },
     "metadata": {
      "needs_background": "light"
     },
     "output_type": "display_data"
    }
   ],
   "source": [
    "data.hist(bins = 50,figsize = (24,18))\n",
    "plt.show()"
   ]
  },
  {
   "cell_type": "code",
   "execution_count": 24,
   "metadata": {},
   "outputs": [
    {
     "data": {
      "image/png": "[encoded data removed]",
      "text/plain": [
       "<Figure size 1080x1080 with 2 Axes>"
      ]
     },
     "metadata": {
      "needs_background": "light"
     },
     "output_type": "display_data"
    }
   ],
   "source": [
    "plt.figure(figsize=(15,15))\n",
    "sns.heatmap(data.corr())\n",
    "plt.show()"
   ]
  },
  {
   "cell_type": "code",
   "execution_count": 25,
   "metadata": {},
   "outputs": [
    {
     "data": {
      "text/html": [
       "<div>\n",
       "<style scoped>\n",
       "    .dataframe tbody tr th:only-of-type {\n",
       "        vertical-align: middle;\n",
       "    }\n",
       "\n",
       "    .dataframe tbody tr th {\n",
       "        vertical-align: top;\n",
       "    }\n",
       "\n",
       "    .dataframe thead th {\n",
       "        text-align: right;\n",
       "    }\n",
       "</style>\n",
       "<table border=\"1\" class=\"dataframe\">\n",
       "  <thead>\n",
       "    <tr style=\"text-align: right;\">\n",
       "      <th></th>\n",
       "      <th>Have_IP</th>\n",
       "      <th>Have_At</th>\n",
       "      <th>URL_Length</th>\n",
       "      <th>URL_Depth</th>\n",
       "      <th>Redirection</th>\n",
       "      <th>https_Domain</th>\n",
       "      <th>TinyURL</th>\n",
       "      <th>Prefix/Suffix</th>\n",
       "      <th>DNS_Record</th>\n",
       "      <th>Web_Traffic</th>\n",
       "      <th>Domain_Age</th>\n",
       "      <th>Domain_End</th>\n",
       "      <th>iFrame</th>\n",
       "      <th>Mouse_Over</th>\n",
       "      <th>Right_Click</th>\n",
       "      <th>Web_Forwards</th>\n",
       "      <th>Label</th>\n",
       "    </tr>\n",
       "  </thead>\n",
       "  <tbody>\n",
       "    <tr>\n",
       "      <th>count</th>\n",
       "      <td>10000.0</td>\n",
       "      <td>10000.000000</td>\n",
       "      <td>10000.000000</td>\n",
       "      <td>10000.000000</td>\n",
       "      <td>10000.000000</td>\n",
       "      <td>10000.0</td>\n",
       "      <td>10000.000000</td>\n",
       "      <td>10000.000000</td>\n",
       "      <td>10000.0</td>\n",
       "      <td>10000.0</td>\n",
       "      <td>10000.0</td>\n",
       "      <td>10000.0</td>\n",
       "      <td>10000.000000</td>\n",
       "      <td>10000.000000</td>\n",
       "      <td>10000.0</td>\n",
       "      <td>10000.000000</td>\n",
       "      <td>10000.000000</td>\n",
       "    </tr>\n",
       "    <tr>\n",
       "      <th>mean</th>\n",
       "      <td>0.0</td>\n",
       "      <td>0.019400</td>\n",
       "      <td>0.681100</td>\n",
       "      <td>2.171500</td>\n",
       "      <td>0.013200</td>\n",
       "      <td>0.0</td>\n",
       "      <td>0.053600</td>\n",
       "      <td>0.198600</td>\n",
       "      <td>1.0</td>\n",
       "      <td>1.0</td>\n",
       "      <td>1.0</td>\n",
       "      <td>1.0</td>\n",
       "      <td>0.998700</td>\n",
       "      <td>0.998600</td>\n",
       "      <td>1.0</td>\n",
       "      <td>0.998800</td>\n",
       "      <td>0.500000</td>\n",
       "    </tr>\n",
       "    <tr>\n",
       "      <th>std</th>\n",
       "      <td>0.0</td>\n",
       "      <td>0.137933</td>\n",
       "      <td>0.466074</td>\n",
       "      <td>2.065893</td>\n",
       "      <td>0.114136</td>\n",
       "      <td>0.0</td>\n",
       "      <td>0.225238</td>\n",
       "      <td>0.398966</td>\n",
       "      <td>0.0</td>\n",
       "      <td>0.0</td>\n",
       "      <td>0.0</td>\n",
       "      <td>0.0</td>\n",
       "      <td>0.036034</td>\n",
       "      <td>0.037392</td>\n",
       "      <td>0.0</td>\n",
       "      <td>0.034622</td>\n",
       "      <td>0.500025</td>\n",
       "    </tr>\n",
       "    <tr>\n",
       "      <th>min</th>\n",
       "      <td>0.0</td>\n",
       "      <td>0.000000</td>\n",
       "      <td>0.000000</td>\n",
       "      <td>0.000000</td>\n",
       "      <td>0.000000</td>\n",
       "      <td>0.0</td>\n",
       "      <td>0.000000</td>\n",
       "      <td>0.000000</td>\n",
       "      <td>1.0</td>\n",
       "      <td>1.0</td>\n",
       "      <td>1.0</td>\n",
       "      <td>1.0</td>\n",
       "      <td>0.000000</td>\n",
       "      <td>0.000000</td>\n",
       "      <td>1.0</td>\n",
       "      <td>0.000000</td>\n",
       "      <td>0.000000</td>\n",
       "    </tr>\n",
       "    <tr>\n",
       "      <th>25%</th>\n",
       "      <td>0.0</td>\n",
       "      <td>0.000000</td>\n",
       "      <td>0.000000</td>\n",
       "      <td>0.000000</td>\n",
       "      <td>0.000000</td>\n",
       "      <td>0.0</td>\n",
       "      <td>0.000000</td>\n",
       "      <td>0.000000</td>\n",
       "      <td>1.0</td>\n",
       "      <td>1.0</td>\n",
       "      <td>1.0</td>\n",
       "      <td>1.0</td>\n",
       "      <td>1.000000</td>\n",
       "      <td>1.000000</td>\n",
       "      <td>1.0</td>\n",
       "      <td>1.000000</td>\n",
       "      <td>0.000000</td>\n",
       "    </tr>\n",
       "    <tr>\n",
       "      <th>50%</th>\n",
       "      <td>0.0</td>\n",
       "      <td>0.000000</td>\n",
       "      <td>1.000000</td>\n",
       "      <td>2.000000</td>\n",
       "      <td>0.000000</td>\n",
       "      <td>0.0</td>\n",
       "      <td>0.000000</td>\n",
       "      <td>0.000000</td>\n",
       "      <td>1.0</td>\n",
       "      <td>1.0</td>\n",
       "      <td>1.0</td>\n",
       "      <td>1.0</td>\n",
       "      <td>1.000000</td>\n",
       "      <td>1.000000</td>\n",
       "      <td>1.0</td>\n",
       "      <td>1.000000</td>\n",
       "      <td>0.500000</td>\n",
       "    </tr>\n",
       "    <tr>\n",
       "      <th>75%</th>\n",
       "      <td>0.0</td>\n",
       "      <td>0.000000</td>\n",
       "      <td>1.000000</td>\n",
       "      <td>3.000000</td>\n",
       "      <td>0.000000</td>\n",
       "      <td>0.0</td>\n",
       "      <td>0.000000</td>\n",
       "      <td>0.000000</td>\n",
       "      <td>1.0</td>\n",
       "      <td>1.0</td>\n",
       "      <td>1.0</td>\n",
       "      <td>1.0</td>\n",
       "      <td>1.000000</td>\n",
       "      <td>1.000000</td>\n",
       "      <td>1.0</td>\n",
       "      <td>1.000000</td>\n",
       "      <td>1.000000</td>\n",
       "    </tr>\n",
       "    <tr>\n",
       "      <th>max</th>\n",
       "      <td>0.0</td>\n",
       "      <td>1.000000</td>\n",
       "      <td>1.000000</td>\n",
       "      <td>18.000000</td>\n",
       "      <td>1.000000</td>\n",
       "      <td>0.0</td>\n",
       "      <td>1.000000</td>\n",
       "      <td>1.000000</td>\n",
       "      <td>1.0</td>\n",
       "      <td>1.0</td>\n",
       "      <td>1.0</td>\n",
       "      <td>1.0</td>\n",
       "      <td>1.000000</td>\n",
       "      <td>1.000000</td>\n",
       "      <td>1.0</td>\n",
       "      <td>1.000000</td>\n",
       "      <td>1.000000</td>\n",
       "    </tr>\n",
       "  </tbody>\n",
       "</table>\n",
       "</div>"
      ],
      "text/plain": [
       "       Have_IP       Have_At    URL_Length     URL_Depth   Redirection  \\\n",
       "count  10000.0  10000.000000  10000.000000  10000.000000  10000.000000   \n",
       "mean       0.0      0.019400      0.681100      2.171500      0.013200   \n",
       "std        0.0      0.137933      0.466074      2.065893      0.114136   \n",
       "min        0.0      0.000000      0.000000      0.000000      0.000000   \n",
       "25%        0.0      0.000000      0.000000      0.000000      0.000000   \n",
       "50%        0.0      0.000000      1.000000      2.000000      0.000000   \n",
       "75%        0.0      0.000000      1.000000      3.000000      0.000000   \n",
       "max        0.0      1.000000      1.000000     18.000000      1.000000   \n",
       "\n",
       "       https_Domain       TinyURL  Prefix/Suffix  DNS_Record  Web_Traffic  \\\n",
       "count       10000.0  10000.000000   10000.000000     10000.0      10000.0   \n",
       "mean            0.0      0.053600       0.198600         1.0          1.0   \n",
       "std             0.0      0.225238       0.398966         0.0          0.0   \n",
       "min             0.0      0.000000       0.000000         1.0          1.0   \n",
       "25%             0.0      0.000000       0.000000         1.0          1.0   \n",
       "50%             0.0      0.000000       0.000000         1.0          1.0   \n",
       "75%             0.0      0.000000       0.000000         1.0          1.0   \n",
       "max             0.0      1.000000       1.000000         1.0          1.0   \n",
       "\n",
       "       Domain_Age  Domain_End        iFrame    Mouse_Over  Right_Click  \\\n",
       "count     10000.0     10000.0  10000.000000  10000.000000      10000.0   \n",
       "mean          1.0         1.0      0.998700      0.998600          1.0   \n",
       "std           0.0         0.0      0.036034      0.037392          0.0   \n",
       "min           1.0         1.0      0.000000      0.000000          1.0   \n",
       "25%           1.0         1.0      1.000000      1.000000          1.0   \n",
       "50%           1.0         1.0      1.000000      1.000000          1.0   \n",
       "75%           1.0         1.0      1.000000      1.000000          1.0   \n",
       "max           1.0         1.0      1.000000      1.000000          1.0   \n",
       "\n",
       "       Web_Forwards         Label  \n",
       "count  10000.000000  10000.000000  \n",
       "mean       0.998800      0.500000  \n",
       "std        0.034622      0.500025  \n",
       "min        0.000000      0.000000  \n",
       "25%        1.000000      0.000000  \n",
       "50%        1.000000      0.500000  \n",
       "75%        1.000000      1.000000  \n",
       "max        1.000000      1.000000  "
      ]
     },
     "execution_count": 25,
     "metadata": {},
     "output_type": "execute_result"
    }
   ],
   "source": [
    "data.describe()"
   ]
  },
  {
   "cell_type": "code",
   "execution_count": 26,
   "metadata": {},
   "outputs": [],
   "source": [
    "data = data.drop(['Domain'], axis = 1)"
   ]
  },
  {
   "cell_type": "code",
   "execution_count": 27,
   "metadata": {},
   "outputs": [
    {
     "data": {
      "text/plain": [
       "Have_IP          0\n",
       "Have_At          0\n",
       "URL_Length       0\n",
       "URL_Depth        0\n",
       "Redirection      0\n",
       "https_Domain     0\n",
       "TinyURL          0\n",
       "Prefix/Suffix    0\n",
       "DNS_Record       0\n",
       "Web_Traffic      0\n",
       "Domain_Age       0\n",
       "Domain_End       0\n",
       "iFrame           0\n",
       "Mouse_Over       0\n",
       "Right_Click      0\n",
       "Web_Forwards     0\n",
       "Label            0\n",
       "dtype: int64"
      ]
     },
     "execution_count": 27,
     "metadata": {},
     "output_type": "execute_result"
    }
   ],
   "source": [
    "data.isnull().sum()"
   ]
  },
  {
   "cell_type": "markdown",
   "metadata": {},
   "source": [
    "# Algorithms"
   ]
  },
  {
   "cell_type": "code",
   "execution_count": 4,
   "metadata": {},
   "outputs": [
    {
     "ename": "NameError",
     "evalue": "name 'data' is not defined",
     "output_type": "error",
     "traceback": [
      "\u001b[1;31m---------------------------------------------------------------------------\u001b[0m",
      "\u001b[1;31mNameError\u001b[0m                                 Traceback (most recent call last)",
      "\u001b[1;32m<ipython-input-4-5daf92faba3c>\u001b[0m in \u001b[0;36m<module>\u001b[1;34m\u001b[0m\n\u001b[1;32m----> 1\u001b[1;33m \u001b[0mX\u001b[0m \u001b[1;33m=\u001b[0m \u001b[0mdata\u001b[0m\u001b[1;33m.\u001b[0m\u001b[0mdrop\u001b[0m\u001b[1;33m(\u001b[0m\u001b[1;33m[\u001b[0m\u001b[1;34m'Label'\u001b[0m\u001b[1;33m]\u001b[0m\u001b[1;33m,\u001b[0m \u001b[0maxis\u001b[0m \u001b[1;33m=\u001b[0m \u001b[1;36m1\u001b[0m\u001b[1;33m)\u001b[0m\u001b[1;33m\u001b[0m\u001b[1;33m\u001b[0m\u001b[0m\n\u001b[0m\u001b[0;32m      2\u001b[0m \u001b[0my\u001b[0m \u001b[1;33m=\u001b[0m \u001b[0mdata\u001b[0m\u001b[1;33m[\u001b[0m\u001b[1;34m'Label'\u001b[0m\u001b[1;33m]\u001b[0m\u001b[1;33m\u001b[0m\u001b[1;33m\u001b[0m\u001b[0m\n",
      "\u001b[1;31mNameError\u001b[0m: name 'data' is not defined"
     ]
    }
   ],
   "source": [
    "X = data.drop(['Label'], axis = 1)\n",
    "y = data['Label']"
   ]
  },
  {
   "cell_type": "code",
   "execution_count": 2,
   "metadata": {},
   "outputs": [],
   "source": [
    "def evaluate(model, X_train, X_test, y_train, y_test):\n",
    "    y_test_pred = model.predict(X_test)\n",
    "    y_train_pred = model.predict(X_train)\n",
    "\n",
    "    print(\"TRAINIG RESULTS: \\n===============================\")\n",
    "    clf_report = pd.DataFrame(classification_report(y_train, y_train_pred, output_dict=True))\n",
    "    print(f\"CONFUSION MATRIX:\\n{confusion_matrix(y_train, y_train_pred)}\")\n",
    "    print(f\"ACCURACY SCORE:\\n{accuracy_score(y_train, y_train_pred):.4f}\")\n",
    "    print(f\"CLASSIFICATION REPORT:\\n{clf_report}\")\n",
    "\n",
    "    print(\"TESTING RESULTS: \\n===============================\")\n",
    "    clf_report = pd.DataFrame(classification_report(y_test, y_test_pred, output_dict=True))\n",
    "    print(f\"CONFUSION MATRIX:\\n{confusion_matrix(y_test, y_test_pred)}\")\n",
    "    print(f\"ACCURACY SCORE:\\n{accuracy_score(y_test, y_test_pred):.4f}\")\n",
    "    print(f\"CLASSIFICATION REPORT:\\n{clf_report}\")"
   ]
  },
  {
   "cell_type": "code",
   "execution_count": 3,
   "metadata": {},
   "outputs": [
    {
     "ename": "NameError",
     "evalue": "name 'train_test_split' is not defined",
     "output_type": "error",
     "traceback": [
      "\u001b[1;31m---------------------------------------------------------------------------\u001b[0m",
      "\u001b[1;31mNameError\u001b[0m                                 Traceback (most recent call last)",
      "\u001b[1;32m<ipython-input-3-2463e23809cd>\u001b[0m in \u001b[0;36m<module>\u001b[1;34m\u001b[0m\n\u001b[1;32m----> 1\u001b[1;33m \u001b[0mX_train\u001b[0m\u001b[1;33m,\u001b[0m \u001b[0mX_test\u001b[0m\u001b[1;33m,\u001b[0m \u001b[0my_train\u001b[0m\u001b[1;33m,\u001b[0m \u001b[0my_test\u001b[0m \u001b[1;33m=\u001b[0m \u001b[0mtrain_test_split\u001b[0m\u001b[1;33m(\u001b[0m\u001b[0mX\u001b[0m\u001b[1;33m,\u001b[0m \u001b[0my\u001b[0m\u001b[1;33m,\u001b[0m \u001b[0mtest_size\u001b[0m\u001b[1;33m=\u001b[0m\u001b[1;36m0.20\u001b[0m\u001b[1;33m)\u001b[0m\u001b[1;33m\u001b[0m\u001b[1;33m\u001b[0m\u001b[0m\n\u001b[0m",
      "\u001b[1;31mNameError\u001b[0m: name 'train_test_split' is not defined"
     ]
    }
   ],
   "source": [
    "X_train, X_test, y_train, y_test = train_test_split(X, y, test_size=0.20)"
   ]
  },
  {
   "cell_type": "markdown",
   "metadata": {},
   "source": [
    "# SVM"
   ]
  },
  {
   "cell_type": "code",
   "execution_count": 35,
   "metadata": {},
   "outputs": [
    {
     "data": {
      "text/plain": [
       "SVC()"
      ]
     },
     "execution_count": 35,
     "metadata": {},
     "output_type": "execute_result"
    }
   ],
   "source": [
    "from sklearn.svm import SVC\n",
    "\n",
    "svm = SVC()\n",
    "\n",
    "svm.fit(X_train, y_train)"
   ]
  },
  {
   "cell_type": "code",
   "execution_count": 36,
   "metadata": {},
   "outputs": [
    {
     "name": "stdout",
     "output_type": "stream",
     "text": [
      "TRAINIG RESULTS: \n",
      "===============================\n",
      "CONFUSION MATRIX:\n",
      "[[3930   57]\n",
      " [ 600 3413]]\n",
      "ACCURACY SCORE:\n",
      "0.9179\n",
      "CLASSIFICATION REPORT:\n",
      "                     0            1  accuracy    macro avg  weighted avg\n",
      "precision     0.867550     0.983573  0.917875     0.925562      0.925750\n",
      "recall        0.985704     0.850486  0.917875     0.918095      0.917875\n",
      "f1-score      0.922860     0.912201  0.917875     0.917531      0.917513\n",
      "support    3987.000000  4013.000000  0.917875  8000.000000   8000.000000\n",
      "TESTING RESULTS: \n",
      "===============================\n",
      "CONFUSION MATRIX:\n",
      "[[1002   11]\n",
      " [ 136  851]]\n",
      "ACCURACY SCORE:\n",
      "0.9265\n",
      "CLASSIFICATION REPORT:\n",
      "                     0           1  accuracy    macro avg  weighted avg\n",
      "precision     0.880492    0.987239    0.9265     0.933866      0.933172\n",
      "recall        0.989141    0.862209    0.9265     0.925675      0.926500\n",
      "f1-score      0.931660    0.920498    0.9265     0.926079      0.926151\n",
      "support    1013.000000  987.000000    0.9265  2000.000000   2000.000000\n"
     ]
    }
   ],
   "source": [
    "evaluate(svm,X_train, X_test, y_train, y_test)"
   ]
  },
  {
   "cell_type": "code",
   "execution_count": 37,
   "metadata": {},
   "outputs": [
    {
     "name": "stdout",
     "output_type": "stream",
     "text": [
      "Accuracy: 92.65%\n",
      "Precision: 93.39%\n",
      "Recall: 92.57%\n",
      "F1-score: 92.61%\n",
      "Sensitivity: 86.22%\n",
      "Specificity: 98.91%\n"
     ]
    }
   ],
   "source": [
    "y_pred = svm.predict(X_test)\n",
    "a = accuracy_score(y_test, y_pred) * 100\n",
    "p = precision_score(y_test,y_pred,average='macro') * 100 \n",
    "r = recall_score(y_test,y_pred,average='macro') * 100\n",
    "f = f1_score(y_test,y_pred,average='macro') * 100\n",
    "conf_matrix = confusion_matrix(y_test, y_pred)\n",
    "tn, fp, fn, tp = conf_matrix.ravel()\n",
    "sensitivity = tp / (tp + fn) * 100\n",
    "specificity = tn / (tn + fp) * 100\n",
    "\n",
    "\n",
    "print(\"Accuracy: {:.2f}%\".format(a))\n",
    "print(\"Precision: {:.2f}%\".format(p))\n",
    "print(\"Recall: {:.2f}%\".format(r))\n",
    "print(\"F1-score: {:.2f}%\".format(f))\n",
    "print(\"Sensitivity: {:.2f}%\".format(sensitivity))\n",
    "print(\"Specificity: {:.2f}%\".format(specificity))"
   ]
  },
  {
   "cell_type": "markdown",
   "metadata": {},
   "source": [
    "# Random Forest"
   ]
  },
  {
   "cell_type": "code",
   "execution_count": 36,
   "metadata": {},
   "outputs": [
    {
     "data": {
      "text/plain": [
       "RandomForestClassifier(max_depth=2, random_state=0)"
      ]
     },
     "execution_count": 36,
     "metadata": {},
     "output_type": "execute_result"
    }
   ],
   "source": [
    "from sklearn.ensemble import RandomForestClassifier\n",
    "\n",
    "rf = RandomForestClassifier(max_depth=2, random_state=0)\n",
    "\n",
    "rf.fit(X_train, y_train)"
   ]
  },
  {
   "cell_type": "code",
   "execution_count": 37,
   "metadata": {},
   "outputs": [
    {
     "name": "stdout",
     "output_type": "stream",
     "text": [
      "TRAINIG RESULTS: \n",
      "===============================\n",
      "CONFUSION MATRIX:\n",
      "[[3966   37]\n",
      " [1644 2353]]\n",
      "ACCURACY SCORE:\n",
      "0.7899\n",
      "CLASSIFICATION REPORT:\n",
      "                     0            1  accuracy    macro avg  weighted avg\n",
      "precision     0.706952     0.984519  0.789875     0.845735      0.845631\n",
      "recall        0.990757     0.588692  0.789875     0.789724      0.789875\n",
      "f1-score      0.825133     0.736809  0.789875     0.780971      0.781004\n",
      "support    4003.000000  3997.000000  0.789875  8000.000000   8000.000000\n",
      "TESTING RESULTS: \n",
      "===============================\n",
      "CONFUSION MATRIX:\n",
      "[[993   4]\n",
      " [430 573]]\n",
      "ACCURACY SCORE:\n",
      "0.7830\n",
      "CLASSIFICATION REPORT:\n",
      "                    0            1  accuracy    macro avg  weighted avg\n",
      "precision    0.697822     0.993068     0.783     0.845445      0.845887\n",
      "recall       0.995988     0.571286     0.783     0.783637      0.783000\n",
      "f1-score     0.820661     0.725316     0.783     0.772989      0.772846\n",
      "support    997.000000  1003.000000     0.783  2000.000000   2000.000000\n"
     ]
    }
   ],
   "source": [
    "evaluate(rf,X_train, X_test, y_train, y_test)"
   ]
  },
  {
   "cell_type": "code",
   "execution_count": 38,
   "metadata": {},
   "outputs": [
    {
     "name": "stdout",
     "output_type": "stream",
     "text": [
      "Accuracy: 78.30%\n",
      "Precision: 84.54%\n",
      "Recall: 78.36%\n",
      "F1-score: 77.30%\n",
      "Sensitivity: 57.13%\n",
      "Specificity: 99.60%\n"
     ]
    }
   ],
   "source": [
    "y_pred = rf.predict(X_test)\n",
    "a1 = accuracy_score(y_test, y_pred) * 100\n",
    "p1 = precision_score(y_test,y_pred,average='macro') * 100 \n",
    "r1 = recall_score(y_test,y_pred,average='macro') * 100\n",
    "f1 = f1_score(y_test,y_pred,average='macro') * 100\n",
    "conf_matrix = confusion_matrix(y_test, y_pred)\n",
    "tn, fp, fn, tp = conf_matrix.ravel()\n",
    "sensitivity1 = tp / (tp + fn) * 100\n",
    "specificity1 = tn / (tn + fp) * 100\n",
    "\n",
    "\n",
    "print(\"Accuracy: {:.2f}%\".format(a1))\n",
    "print(\"Precision: {:.2f}%\".format(p1))\n",
    "print(\"Recall: {:.2f}%\".format(r1))\n",
    "print(\"F1-score: {:.2f}%\".format(f1))\n",
    "print(\"Sensitivity: {:.2f}%\".format(sensitivity1))\n",
    "print(\"Specificity: {:.2f}%\".format(specificity1))"
   ]
  },
  {
   "cell_type": "markdown",
   "metadata": {},
   "source": [
    "# Logistic Regression"
   ]
  },
  {
   "cell_type": "code",
   "execution_count": 39,
   "metadata": {},
   "outputs": [
    {
     "data": {
      "text/plain": [
       "LogisticRegression(random_state=0)"
      ]
     },
     "execution_count": 39,
     "metadata": {},
     "output_type": "execute_result"
    }
   ],
   "source": [
    "from sklearn.linear_model import LogisticRegression\n",
    "\n",
    "lr = LogisticRegression(random_state=0)\n",
    "\n",
    "lr.fit(X_train, y_train)"
   ]
  },
  {
   "cell_type": "code",
   "execution_count": 40,
   "metadata": {},
   "outputs": [
    {
     "name": "stdout",
     "output_type": "stream",
     "text": [
      "TRAINIG RESULTS: \n",
      "===============================\n",
      "CONFUSION MATRIX:\n",
      "[[3799  204]\n",
      " [1345 2652]]\n",
      "ACCURACY SCORE:\n",
      "0.8064\n",
      "CLASSIFICATION REPORT:\n",
      "                     0            1  accuracy    macro avg  weighted avg\n",
      "precision     0.738530     0.928571  0.806375     0.833551      0.833480\n",
      "recall        0.949038     0.663498  0.806375     0.806268      0.806375\n",
      "f1-score      0.830655     0.773968  0.806375     0.802311      0.802332\n",
      "support    4003.000000  3997.000000  0.806375  8000.000000   8000.000000\n",
      "TESTING RESULTS: \n",
      "===============================\n",
      "CONFUSION MATRIX:\n",
      "[[940  57]\n",
      " [340 663]]\n",
      "ACCURACY SCORE:\n",
      "0.8015\n",
      "CLASSIFICATION REPORT:\n",
      "                    0            1  accuracy    macro avg  weighted avg\n",
      "precision    0.734375     0.920833    0.8015     0.827604      0.827884\n",
      "recall       0.942828     0.661017    0.8015     0.801923      0.801500\n",
      "f1-score     0.825648     0.769588    0.8015     0.797618      0.797534\n",
      "support    997.000000  1003.000000    0.8015  2000.000000   2000.000000\n"
     ]
    }
   ],
   "source": [
    "evaluate(lr,X_train, X_test, y_train, y_test)"
   ]
  },
  {
   "cell_type": "code",
   "execution_count": 41,
   "metadata": {},
   "outputs": [
    {
     "name": "stdout",
     "output_type": "stream",
     "text": [
      "Accuracy: 80.15%\n",
      "Precision: 82.76%\n",
      "Recall: 80.19%\n",
      "F1-score: 79.76%\n",
      "Sensitivity: 66.10%\n",
      "Specificity: 94.28%\n"
     ]
    }
   ],
   "source": [
    "y_pred = lr.predict(X_test)\n",
    "a2 = accuracy_score(y_test, y_pred) * 100\n",
    "p2 = precision_score(y_test,y_pred,average='macro') * 100 \n",
    "r2 = recall_score(y_test,y_pred,average='macro') * 100\n",
    "f2 = f1_score(y_test,y_pred,average='macro') * 100\n",
    "conf_matrix = confusion_matrix(y_test, y_pred)\n",
    "tn, fp, fn, tp = conf_matrix.ravel()\n",
    "sensitivity2 = tp / (tp + fn) * 100\n",
    "specificity2 = tn / (tn + fp) * 100\n",
    "\n",
    "\n",
    "print(\"Accuracy: {:.2f}%\".format(a2))\n",
    "print(\"Precision: {:.2f}%\".format(p2))\n",
    "print(\"Recall: {:.2f}%\".format(r2))\n",
    "print(\"F1-score: {:.2f}%\".format(f2))\n",
    "print(\"Sensitivity: {:.2f}%\".format(sensitivity2))\n",
    "print(\"Specificity: {:.2f}%\".format(specificity2))"
   ]
  },
  {
   "cell_type": "markdown",
   "metadata": {},
   "source": [
    "# KNN"
   ]
  },
  {
   "cell_type": "code",
   "execution_count": 42,
   "metadata": {},
   "outputs": [
    {
     "data": {
      "text/plain": [
       "KNeighborsClassifier(n_neighbors=3)"
      ]
     },
     "execution_count": 42,
     "metadata": {},
     "output_type": "execute_result"
    }
   ],
   "source": [
    "from sklearn.neighbors import KNeighborsClassifier\n",
    "\n",
    "knn = KNeighborsClassifier(n_neighbors=3)\n",
    "\n",
    "knn.fit(X_train, y_train)"
   ]
  },
  {
   "cell_type": "code",
   "execution_count": 43,
   "metadata": {},
   "outputs": [
    {
     "name": "stdout",
     "output_type": "stream",
     "text": [
      "TRAINIG RESULTS: \n",
      "===============================\n",
      "CONFUSION MATRIX:\n",
      "[[3731  272]\n",
      " [ 882 3115]]\n",
      "ACCURACY SCORE:\n",
      "0.8558\n",
      "CLASSIFICATION REPORT:\n",
      "                     0            1  accuracy    macro avg  weighted avg\n",
      "precision     0.808801     0.919693   0.85575     0.864247      0.864205\n",
      "recall        0.932051     0.779335   0.85575     0.855693      0.855750\n",
      "f1-score      0.866063     0.843716   0.85575     0.854890      0.854898\n",
      "support    4003.000000  3997.000000   0.85575  8000.000000   8000.000000\n",
      "TESTING RESULTS: \n",
      "===============================\n",
      "CONFUSION MATRIX:\n",
      "[[918  79]\n",
      " [258 745]]\n",
      "ACCURACY SCORE:\n",
      "0.8315\n",
      "CLASSIFICATION REPORT:\n",
      "                    0            1  accuracy    macro avg  weighted avg\n",
      "precision    0.780612     0.904126    0.8315     0.842369      0.842555\n",
      "recall       0.920762     0.742772    0.8315     0.831767      0.831500\n",
      "f1-score     0.844915     0.815545    0.8315     0.830230      0.830186\n",
      "support    997.000000  1003.000000    0.8315  2000.000000   2000.000000\n"
     ]
    }
   ],
   "source": [
    "evaluate(knn,X_train, X_test, y_train, y_test)"
   ]
  },
  {
   "cell_type": "code",
   "execution_count": 44,
   "metadata": {},
   "outputs": [
    {
     "name": "stdout",
     "output_type": "stream",
     "text": [
      "Accuracy: 83.15%\n",
      "Precision: 84.24%\n",
      "Recall: 83.18%\n",
      "F1-score: 83.02%\n",
      "Sensitivity: 74.28%\n",
      "Specificity: 92.08%\n"
     ]
    }
   ],
   "source": [
    "y_pred = knn.predict(X_test)\n",
    "a3 = accuracy_score(y_test, y_pred) * 100\n",
    "p3 = precision_score(y_test,y_pred,average='macro') * 100 \n",
    "r3 = recall_score(y_test,y_pred,average='macro') * 100\n",
    "f3 = f1_score(y_test,y_pred,average='macro') * 100\n",
    "conf_matrix = confusion_matrix(y_test, y_pred)\n",
    "tn, fp, fn, tp = conf_matrix.ravel()\n",
    "sensitivity3 = tp / (tp + fn) * 100\n",
    "specificity3 = tn / (tn + fp) * 100\n",
    "\n",
    "\n",
    "print(\"Accuracy: {:.2f}%\".format(a3))\n",
    "print(\"Precision: {:.2f}%\".format(p3))\n",
    "print(\"Recall: {:.2f}%\".format(r3))\n",
    "print(\"F1-score: {:.2f}%\".format(f3))\n",
    "print(\"Sensitivity: {:.2f}%\".format(sensitivity3))\n",
    "print(\"Specificity: {:.2f}%\".format(specificity3))"
   ]
  },
  {
   "cell_type": "markdown",
   "metadata": {},
   "source": [
    "# Decision Tree"
   ]
  },
  {
   "cell_type": "code",
   "execution_count": 45,
   "metadata": {},
   "outputs": [
    {
     "data": {
      "text/plain": [
       "DecisionTreeClassifier(max_depth=10, max_features='sqrt',\n",
       "                       min_impurity_decrease=0, min_samples_leaf=2,\n",
       "                       min_samples_split=5, random_state=42)"
      ]
     },
     "execution_count": 45,
     "metadata": {},
     "output_type": "execute_result"
    }
   ],
   "source": [
    "from sklearn.tree import DecisionTreeClassifier\n",
    "\n",
    "\n",
    "dt = DecisionTreeClassifier(\n",
    "    criterion='gini',       \n",
    "    max_depth=10,           \n",
    "    min_samples_split=5,     \n",
    "    min_samples_leaf=2,     \n",
    "    max_features='sqrt',    \n",
    "    random_state=42,        \n",
    "    class_weight=None,      \n",
    "    splitter='best',        \n",
    "    min_impurity_decrease=0, \n",
    "    ccp_alpha=0.0           \n",
    ")\n",
    "\n",
    "# Fit the DecisionTreeClassifier to your training data\n",
    "dt.fit(X_train, y_train)\n"
   ]
  },
  {
   "cell_type": "code",
   "execution_count": 46,
   "metadata": {},
   "outputs": [
    {
     "name": "stdout",
     "output_type": "stream",
     "text": [
      "TRAINIG RESULTS: \n",
      "===============================\n",
      "CONFUSION MATRIX:\n",
      "[[3753  250]\n",
      " [1259 2738]]\n",
      "ACCURACY SCORE:\n",
      "0.8114\n",
      "CLASSIFICATION REPORT:\n",
      "                     0            1  accuracy    macro avg  weighted avg\n",
      "precision     0.748803     0.916332  0.811375     0.832567      0.832505\n",
      "recall        0.937547     0.685014  0.811375     0.811280      0.811375\n",
      "f1-score      0.832612     0.783966  0.811375     0.808289      0.808307\n",
      "support    4003.000000  3997.000000  0.811375  8000.000000   8000.000000\n",
      "TESTING RESULTS: \n",
      "===============================\n",
      "CONFUSION MATRIX:\n",
      "[[934  63]\n",
      " [338 665]]\n",
      "ACCURACY SCORE:\n",
      "0.7995\n",
      "CLASSIFICATION REPORT:\n",
      "                    0            1  accuracy    macro avg  weighted avg\n",
      "precision    0.734277     0.913462    0.7995     0.823869      0.824138\n",
      "recall       0.936810     0.663011    0.7995     0.799911      0.799500\n",
      "f1-score     0.823270     0.768342    0.7995     0.795806      0.795724\n",
      "support    997.000000  1003.000000    0.7995  2000.000000   2000.000000\n"
     ]
    }
   ],
   "source": [
    "evaluate(dt,X_train, X_test, y_train, y_test)"
   ]
  },
  {
   "cell_type": "code",
   "execution_count": 47,
   "metadata": {},
   "outputs": [
    {
     "name": "stdout",
     "output_type": "stream",
     "text": [
      "Accuracy: 79.95%\n",
      "Precision: 82.39%\n",
      "Recall: 79.99%\n",
      "F1-score: 79.58%\n",
      "Sensitivity: 66.30%\n",
      "Specificity: 93.68%\n"
     ]
    }
   ],
   "source": [
    "y_pred = dt.predict(X_test)\n",
    "a4 = accuracy_score(y_test, y_pred) * 100\n",
    "p4 = precision_score(y_test,y_pred,average='macro') * 100 \n",
    "r4 = recall_score(y_test,y_pred,average='macro') * 100\n",
    "f4 = f1_score(y_test,y_pred,average='macro') * 100\n",
    "conf_matrix = confusion_matrix(y_test, y_pred)\n",
    "tn, fp, fn, tp = conf_matrix.ravel()\n",
    "sensitivity4 = tp / (tp + fn) * 100\n",
    "specificity4 = tn / (tn + fp) * 100\n",
    "\n",
    "\n",
    "print(\"Accuracy: {:.2f}%\".format(a4))\n",
    "print(\"Precision: {:.2f}%\".format(p4))\n",
    "print(\"Recall: {:.2f}%\".format(r4))\n",
    "print(\"F1-score: {:.2f}%\".format(f4))\n",
    "print(\"Sensitivity: {:.2f}%\".format(sensitivity4))\n",
    "print(\"Specificity: {:.2f}%\".format(specificity4))"
   ]
  },
  {
   "cell_type": "markdown",
   "metadata": {},
   "source": [
    "# Adaboost"
   ]
  },
  {
   "cell_type": "code",
   "execution_count": 48,
   "metadata": {},
   "outputs": [
    {
     "data": {
      "text/plain": [
       "AdaBoostClassifier()"
      ]
     },
     "execution_count": 48,
     "metadata": {},
     "output_type": "execute_result"
    }
   ],
   "source": [
    "from sklearn.ensemble import AdaBoostClassifier\n",
    "\n",
    "ada = AdaBoostClassifier()\n",
    "\n",
    "ada.fit(X_train, y_train)"
   ]
  },
  {
   "cell_type": "code",
   "execution_count": 49,
   "metadata": {},
   "outputs": [
    {
     "name": "stdout",
     "output_type": "stream",
     "text": [
      "TRAINIG RESULTS: \n",
      "===============================\n",
      "CONFUSION MATRIX:\n",
      "[[3558  445]\n",
      " [1088 2909]]\n",
      "ACCURACY SCORE:\n",
      "0.8084\n",
      "CLASSIFICATION REPORT:\n",
      "                     0            1  accuracy    macro avg  weighted avg\n",
      "precision     0.765820     0.867323  0.808375     0.816571      0.816533\n",
      "recall        0.888833     0.727796  0.808375     0.808315      0.808375\n",
      "f1-score      0.822754     0.791457  0.808375     0.807106      0.807117\n",
      "support    4003.000000  3997.000000  0.808375  8000.000000   8000.000000\n",
      "TESTING RESULTS: \n",
      "===============================\n",
      "CONFUSION MATRIX:\n",
      "[[886 111]\n",
      " [277 726]]\n",
      "ACCURACY SCORE:\n",
      "0.8060\n",
      "CLASSIFICATION REPORT:\n",
      "                    0            1  accuracy    macro avg  weighted avg\n",
      "precision    0.761823     0.867384     0.806     0.814603      0.814762\n",
      "recall       0.888666     0.723829     0.806     0.806247      0.806000\n",
      "f1-score     0.820370     0.789130     0.806     0.804750      0.804704\n",
      "support    997.000000  1003.000000     0.806  2000.000000   2000.000000\n"
     ]
    }
   ],
   "source": [
    "evaluate(ada,X_train, X_test, y_train, y_test)"
   ]
  },
  {
   "cell_type": "code",
   "execution_count": 50,
   "metadata": {},
   "outputs": [
    {
     "name": "stdout",
     "output_type": "stream",
     "text": [
      "Accuracy: 80.60%\n",
      "Precision: 81.46%\n",
      "Recall: 80.62%\n",
      "F1-score: 80.48%\n",
      "Sensitivity: 72.38%\n",
      "Specificity: 88.87%\n"
     ]
    }
   ],
   "source": [
    "y_pred = ada.predict(X_test)\n",
    "a5 = accuracy_score(y_test, y_pred) * 100\n",
    "p5 = precision_score(y_test,y_pred,average='macro') * 100 \n",
    "r5 = recall_score(y_test,y_pred,average='macro') * 100\n",
    "f5 = f1_score(y_test,y_pred,average='macro') * 100\n",
    "conf_matrix = confusion_matrix(y_test, y_pred)\n",
    "tn, fp, fn, tp = conf_matrix.ravel()\n",
    "sensitivity5 = tp / (tp + fn) * 100\n",
    "specificity5 = tn / (tn + fp) * 100\n",
    "\n",
    "\n",
    "print(\"Accuracy: {:.2f}%\".format(a5))\n",
    "print(\"Precision: {:.2f}%\".format(p5))\n",
    "print(\"Recall: {:.2f}%\".format(r5))\n",
    "print(\"F1-score: {:.2f}%\".format(f5))\n",
    "print(\"Sensitivity: {:.2f}%\".format(sensitivity5))\n",
    "print(\"Specificity: {:.2f}%\".format(specificity5))"
   ]
  },
  {
   "cell_type": "markdown",
   "metadata": {},
   "source": [
    "# Naive Bayes"
   ]
  },
  {
   "cell_type": "code",
   "execution_count": 51,
   "metadata": {},
   "outputs": [
    {
     "data": {
      "text/plain": [
       "GaussianNB()"
      ]
     },
     "execution_count": 51,
     "metadata": {},
     "output_type": "execute_result"
    }
   ],
   "source": [
    "from sklearn.naive_bayes import GaussianNB\n",
    "\n",
    "gnb = GaussianNB()\n",
    "\n",
    "gnb.fit(X_train, y_train)"
   ]
  },
  {
   "cell_type": "code",
   "execution_count": 52,
   "metadata": {},
   "outputs": [
    {
     "name": "stdout",
     "output_type": "stream",
     "text": [
      "TRAINIG RESULTS: \n",
      "===============================\n",
      "CONFUSION MATRIX:\n",
      "[[3958   45]\n",
      " [1614 2383]]\n",
      "ACCURACY SCORE:\n",
      "0.7926\n",
      "CLASSIFICATION REPORT:\n",
      "                     0            1  accuracy    macro avg  weighted avg\n",
      "precision     0.710337     0.981466  0.792625     0.845902      0.845800\n",
      "recall        0.988758     0.596197  0.792625     0.792478      0.792625\n",
      "f1-score      0.826736     0.741790  0.792625     0.784263      0.784295\n",
      "support    4003.000000  3997.000000  0.792625  8000.000000   8000.000000\n",
      "TESTING RESULTS: \n",
      "===============================\n",
      "CONFUSION MATRIX:\n",
      "[[991   6]\n",
      " [416 587]]\n",
      "ACCURACY SCORE:\n",
      "0.7890\n",
      "CLASSIFICATION REPORT:\n",
      "                    0            1  accuracy    macro avg  weighted avg\n",
      "precision    0.704335     0.989882     0.789     0.847109      0.847537\n",
      "recall       0.993982     0.585244     0.789     0.789613      0.789000\n",
      "f1-score     0.824459     0.735589     0.789     0.780024      0.779891\n",
      "support    997.000000  1003.000000     0.789  2000.000000   2000.000000\n"
     ]
    }
   ],
   "source": [
    "evaluate(gnb,X_train, X_test, y_train, y_test)"
   ]
  },
  {
   "cell_type": "code",
   "execution_count": 53,
   "metadata": {},
   "outputs": [
    {
     "name": "stdout",
     "output_type": "stream",
     "text": [
      "Accuracy: 78.90%\n",
      "Precision: 84.71%\n",
      "Recall: 78.96%\n",
      "F1-score: 78.00%\n",
      "Sensitivity: 58.52%\n",
      "Specificity: 99.40%\n"
     ]
    }
   ],
   "source": [
    "y_pred = gnb.predict(X_test)\n",
    "a6 = accuracy_score(y_test, y_pred) * 100\n",
    "p6 = precision_score(y_test,y_pred,average='macro') * 100 \n",
    "r6 = recall_score(y_test,y_pred,average='macro') * 100\n",
    "f6 = f1_score(y_test,y_pred,average='macro') * 100\n",
    "conf_matrix = confusion_matrix(y_test, y_pred)\n",
    "tn, fp, fn, tp = conf_matrix.ravel()\n",
    "sensitivity6 = tp / (tp + fn) * 100\n",
    "specificity6 = tn / (tn + fp) * 100\n",
    "\n",
    "\n",
    "print(\"Accuracy: {:.2f}%\".format(a6))\n",
    "print(\"Precision: {:.2f}%\".format(p6))\n",
    "print(\"Recall: {:.2f}%\".format(r6))\n",
    "print(\"F1-score: {:.2f}%\".format(f6))\n",
    "print(\"Sensitivity: {:.2f}%\".format(sensitivity6))\n",
    "print(\"Specificity: {:.2f}%\".format(specificity6))"
   ]
  },
  {
   "cell_type": "markdown",
   "metadata": {},
   "source": [
    "# Gradient Boosting"
   ]
  },
  {
   "cell_type": "code",
   "execution_count": 54,
   "metadata": {},
   "outputs": [
    {
     "data": {
      "text/plain": [
       "GradientBoostingClassifier()"
      ]
     },
     "execution_count": 54,
     "metadata": {},
     "output_type": "execute_result"
    }
   ],
   "source": [
    "from sklearn.ensemble import GradientBoostingClassifier\n",
    "\n",
    "gb = GradientBoostingClassifier()\n",
    "\n",
    "gb.fit(X_train, y_train)"
   ]
  },
  {
   "cell_type": "code",
   "execution_count": 55,
   "metadata": {},
   "outputs": [
    {
     "name": "stdout",
     "output_type": "stream",
     "text": [
      "TRAINIG RESULTS: \n",
      "===============================\n",
      "CONFUSION MATRIX:\n",
      "[[3909   94]\n",
      " [1234 2763]]\n",
      "ACCURACY SCORE:\n",
      "0.8340\n",
      "CLASSIFICATION REPORT:\n",
      "                     0            1  accuracy    macro avg  weighted avg\n",
      "precision     0.760062     0.967098     0.834     0.863580      0.863503\n",
      "recall        0.976518     0.691268     0.834     0.833893      0.834000\n",
      "f1-score      0.854800     0.806245     0.834     0.830522      0.830540\n",
      "support    4003.000000  3997.000000     0.834  8000.000000   8000.000000\n",
      "TESTING RESULTS: \n",
      "===============================\n",
      "CONFUSION MATRIX:\n",
      "[[974  23]\n",
      " [317 686]]\n",
      "ACCURACY SCORE:\n",
      "0.8300\n",
      "CLASSIFICATION REPORT:\n",
      "                    0            1  accuracy    macro avg  weighted avg\n",
      "precision    0.754454     0.967560      0.83     0.861007      0.861327\n",
      "recall       0.976931     0.683948      0.83     0.830439      0.830000\n",
      "f1-score     0.851399     0.801402      0.83     0.826400      0.826325\n",
      "support    997.000000  1003.000000      0.83  2000.000000   2000.000000\n"
     ]
    }
   ],
   "source": [
    "evaluate(gb,X_train, X_test, y_train, y_test)"
   ]
  },
  {
   "cell_type": "code",
   "execution_count": 56,
   "metadata": {},
   "outputs": [
    {
     "name": "stdout",
     "output_type": "stream",
     "text": [
      "Accuracy: 83.00%\n",
      "Precision: 86.10%\n",
      "Recall: 83.04%\n",
      "F1-score: 82.64%\n",
      "Sensitivity: 68.39%\n",
      "Specificity: 97.69%\n"
     ]
    }
   ],
   "source": [
    "y_pred = gb.predict(X_test)\n",
    "a7 = accuracy_score(y_test, y_pred) * 100\n",
    "p7 = precision_score(y_test,y_pred,average='macro') * 100 \n",
    "r7 = recall_score(y_test,y_pred,average='macro') * 100\n",
    "f7 = f1_score(y_test,y_pred,average='macro') * 100\n",
    "conf_matrix = confusion_matrix(y_test, y_pred)\n",
    "tn, fp, fn, tp = conf_matrix.ravel()\n",
    "sensitivity7 = tp / (tp + fn) * 100\n",
    "specificity7 = tn / (tn + fp) * 100\n",
    "\n",
    "\n",
    "print(\"Accuracy: {:.2f}%\".format(a7))\n",
    "print(\"Precision: {:.2f}%\".format(p7))\n",
    "print(\"Recall: {:.2f}%\".format(r7))\n",
    "print(\"F1-score: {:.2f}%\".format(f7))\n",
    "print(\"Sensitivity: {:.2f}%\".format(sensitivity7))\n",
    "print(\"Specificity: {:.2f}%\".format(specificity7))"
   ]
  },
  {
   "cell_type": "markdown",
   "metadata": {},
   "source": [
    "# Xgboost"
   ]
  },
  {
   "cell_type": "code",
   "execution_count": 57,
   "metadata": {},
   "outputs": [
    {
     "data": {
      "text/plain": [
       "XGBClassifier(base_score=0.5, booster='gbtree', callbacks=None,\n",
       "              colsample_bylevel=1, colsample_bynode=1, colsample_bytree=1,\n",
       "              early_stopping_rounds=None, enable_categorical=False,\n",
       "              eval_metric=None, gamma=0, gpu_id=-1, grow_policy='depthwise',\n",
       "              importance_type=None, interaction_constraints='',\n",
       "              learning_rate=0.300000012, max_bin=256, max_cat_to_onehot=4,\n",
       "              max_delta_step=0, max_depth=6, max_leaves=0, min_child_weight=1,\n",
       "              missing=nan, monotone_constraints='()', n_estimators=100,\n",
       "              n_jobs=0, num_parallel_tree=1, predictor='auto', random_state=42,\n",
       "              reg_alpha=0, reg_lambda=1, ...)"
      ]
     },
     "execution_count": 57,
     "metadata": {},
     "output_type": "execute_result"
    }
   ],
   "source": [
    "import xgboost as xgb\n",
    "\n",
    "xg = xgb.XGBClassifier(objective=\"binary:logistic\", random_state=42)\n",
    "\n",
    "xg.fit(X_train, y_train)"
   ]
  },
  {
   "cell_type": "code",
   "execution_count": 58,
   "metadata": {},
   "outputs": [
    {
     "name": "stdout",
     "output_type": "stream",
     "text": [
      "TRAINIG RESULTS: \n",
      "===============================\n",
      "CONFUSION MATRIX:\n",
      "[[3730  273]\n",
      " [ 781 3216]]\n",
      "ACCURACY SCORE:\n",
      "0.8682\n",
      "CLASSIFICATION REPORT:\n",
      "                     0            1  accuracy    macro avg  weighted avg\n",
      "precision     0.826868     0.921754   0.86825     0.874311      0.874275\n",
      "recall        0.931801     0.804603   0.86825     0.868202      0.868250\n",
      "f1-score      0.876204     0.859204   0.86825     0.867704      0.867710\n",
      "support    4003.000000  3997.000000   0.86825  8000.000000   8000.000000\n",
      "TESTING RESULTS: \n",
      "===============================\n",
      "CONFUSION MATRIX:\n",
      "[[913  84]\n",
      " [211 792]]\n",
      "ACCURACY SCORE:\n",
      "0.8525\n",
      "CLASSIFICATION REPORT:\n",
      "                    0            1  accuracy    macro avg  weighted avg\n",
      "precision    0.812278     0.904110    0.8525     0.858194      0.858331\n",
      "recall       0.915747     0.789631    0.8525     0.852689      0.852500\n",
      "f1-score     0.860915     0.843002    0.8525     0.851958      0.851931\n",
      "support    997.000000  1003.000000    0.8525  2000.000000   2000.000000\n"
     ]
    }
   ],
   "source": [
    "evaluate(xg,X_train, X_test, y_train, y_test)"
   ]
  },
  {
   "cell_type": "code",
   "execution_count": 59,
   "metadata": {},
   "outputs": [
    {
     "name": "stdout",
     "output_type": "stream",
     "text": [
      "Accuracy: 85.25%\n",
      "Precision: 85.82%\n",
      "Recall: 85.27%\n",
      "F1-score: 85.20%\n",
      "Sensitivity: 78.96%\n",
      "Specificity: 91.57%\n"
     ]
    }
   ],
   "source": [
    "y_pred = xg.predict(X_test)\n",
    "a8 = accuracy_score(y_test, y_pred) * 100\n",
    "p8 = precision_score(y_test,y_pred,average='macro') * 100 \n",
    "r8 = recall_score(y_test,y_pred,average='macro') * 100\n",
    "f8 = f1_score(y_test,y_pred,average='macro') * 100\n",
    "conf_matrix = confusion_matrix(y_test, y_pred)\n",
    "tn, fp, fn, tp = conf_matrix.ravel()\n",
    "sensitivity8 = tp / (tp + fn) * 100\n",
    "specificity8 = tn / (tn + fp) * 100\n",
    "\n",
    "\n",
    "print(\"Accuracy: {:.2f}%\".format(a8))\n",
    "print(\"Precision: {:.2f}%\".format(p8))\n",
    "print(\"Recall: {:.2f}%\".format(r8))\n",
    "print(\"F1-score: {:.2f}%\".format(f8))\n",
    "print(\"Sensitivity: {:.2f}%\".format(sensitivity8))\n",
    "print(\"Specificity: {:.2f}%\".format(specificity8))"
   ]
  },
  {
   "cell_type": "markdown",
   "metadata": {},
   "source": [
    "# CNN"
   ]
  },
  {
   "cell_type": "code",
   "execution_count": 60,
   "metadata": {},
   "outputs": [],
   "source": [
    "X = data.drop(['Label'], axis = 1)\n",
    "y = data['Label']\n",
    "\n",
    "\n",
    "y_data = LabelBinarizer().fit_transform(y)\n",
    "\n",
    "X=np.array(X)\n",
    "y=np.array(y)"
   ]
  },
  {
   "cell_type": "code",
   "execution_count": 61,
   "metadata": {},
   "outputs": [],
   "source": [
    "X_train, X_test, y_train, y_test = train_test_split(X,y, test_size=0.20, random_state=42)"
   ]
  },
  {
   "cell_type": "code",
   "execution_count": 62,
   "metadata": {},
   "outputs": [
    {
     "data": {
      "text/plain": [
       "(2000, 16, 1)"
      ]
     },
     "execution_count": 62,
     "metadata": {},
     "output_type": "execute_result"
    }
   ],
   "source": [
    "X_train = np.reshape(X_train, (X_train.shape[0], X_train.shape[1], 1))\n",
    "X_train.shape\n",
    "X_test = np.reshape(X_test, (X_test.shape[0], X_test.shape[1], 1))\n",
    "X_test.shape"
   ]
  },
  {
   "cell_type": "code",
   "execution_count": 63,
   "metadata": {},
   "outputs": [],
   "source": [
    "model = Sequential() \n",
    "model.add(Conv1D(32, 3, padding=\"same\",input_shape = (X_train.shape[1], 1), activation='relu'))\n",
    "model.add(MaxPool1D(pool_size=(4)))  \n",
    "model.add(Dropout(0.2))\n",
    "model.add(Conv1D(32, 3, padding=\"same\", activation='relu'))\n",
    "model.add(MaxPool1D(pool_size=(4)))  \n",
    "model.add(Dropout(0.2))\n",
    "model.add(Flatten())\n",
    "model.add(Dense(units=50))\n",
    "model.add(Dense(units=1,activation='softmax'))"
   ]
  },
  {
   "cell_type": "code",
   "execution_count": 64,
   "metadata": {},
   "outputs": [
    {
     "name": "stdout",
     "output_type": "stream",
     "text": [
      "Epoch 1/10\n",
      "125/125 [==============================] - 2s 3ms/step - loss: 0.0000e+00 - accuracy: 0.5015 - val_loss: 0.0000e+00 - val_accuracy: 0.4940\n",
      "Epoch 2/10\n",
      "125/125 [==============================] - 0s 2ms/step - loss: 0.0000e+00 - accuracy: 0.5015 - val_loss: 0.0000e+00 - val_accuracy: 0.4940\n",
      "Epoch 3/10\n",
      "125/125 [==============================] - 0s 2ms/step - loss: 0.0000e+00 - accuracy: 0.5015 - val_loss: 0.0000e+00 - val_accuracy: 0.4940\n",
      "Epoch 4/10\n",
      "125/125 [==============================] - 0s 2ms/step - loss: 0.0000e+00 - accuracy: 0.5015 - val_loss: 0.0000e+00 - val_accuracy: 0.4940\n",
      "Epoch 5/10\n",
      "125/125 [==============================] - 0s 2ms/step - loss: 0.0000e+00 - accuracy: 0.5015 - val_loss: 0.0000e+00 - val_accuracy: 0.4940\n",
      "Epoch 6/10\n",
      "125/125 [==============================] - 0s 2ms/step - loss: 0.0000e+00 - accuracy: 0.5015 - val_loss: 0.0000e+00 - val_accuracy: 0.4940\n",
      "Epoch 7/10\n",
      "125/125 [==============================] - 0s 2ms/step - loss: 0.0000e+00 - accuracy: 0.5015 - val_loss: 0.0000e+00 - val_accuracy: 0.4940\n",
      "Epoch 8/10\n",
      "125/125 [==============================] - 0s 2ms/step - loss: 0.0000e+00 - accuracy: 0.5015 - val_loss: 0.0000e+00 - val_accuracy: 0.4940\n",
      "Epoch 9/10\n",
      "125/125 [==============================] - 0s 2ms/step - loss: 0.0000e+00 - accuracy: 0.5015 - val_loss: 0.0000e+00 - val_accuracy: 0.4940\n",
      "Epoch 10/10\n",
      "125/125 [==============================] - 0s 2ms/step - loss: 0.0000e+00 - accuracy: 0.5015 - val_loss: 0.0000e+00 - val_accuracy: 0.4940\n"
     ]
    }
   ],
   "source": [
    "model.compile(loss='categorical_crossentropy', optimizer='adam', metrics=['accuracy'])\n",
    "history = model.fit(X_train, y_train, epochs=10, batch_size=64, validation_data=(X_test, y_test))"
   ]
  },
  {
   "cell_type": "code",
   "execution_count": 65,
   "metadata": {},
   "outputs": [
    {
     "name": "stdout",
     "output_type": "stream",
     "text": [
      "Accuracy: 50.60%\n",
      "Precision: 25.30%\n",
      "Recall: 50.00%\n",
      "F1-score: 33.60%\n",
      "Sensitivity: 0.00%\n",
      "Specificity: 100.00%\n"
     ]
    }
   ],
   "source": [
    "y_pred = model.predict(X_test)  \n",
    "\n",
    "\n",
    "y_pred_classes = np.argmax(y_pred, axis=1)\n",
    "\n",
    "\n",
    "a9 = accuracy_score(y_test, y_pred_classes) * 100\n",
    "p9 = precision_score(y_test, y_pred_classes, average='macro') * 100\n",
    "r9 = recall_score(y_test, y_pred_classes, average='macro') * 100\n",
    "f9 = f1_score(y_test, y_pred_classes, average='macro') * 100\n",
    "\n",
    "conf_matrix = confusion_matrix(y_test, y_pred_classes)\n",
    "\n",
    "TN = conf_matrix[0, 0]\n",
    "FP = conf_matrix[0, 1]\n",
    "FN = conf_matrix[1, 0]\n",
    "TP = conf_matrix[1, 1]\n",
    "\n",
    "\n",
    "sensitivity9 = TP / (TP + FN)* 100\n",
    "specificity9 = TN / (TN + FP)* 100\n",
    "\n",
    "\n",
    "print(\"Accuracy: {:.2f}%\".format(a9))\n",
    "print(\"Precision: {:.2f}%\".format(p9))\n",
    "print(\"Recall: {:.2f}%\".format(r9))\n",
    "print(\"F1-score: {:.2f}%\".format(f9))\n",
    "print(\"Sensitivity: {:.2f}%\".format(sensitivity9))\n",
    "print(\"Specificity: {:.2f}%\".format(specificity9))"
   ]
  },
  {
   "cell_type": "code",
   "execution_count": 66,
   "metadata": {},
   "outputs": [
    {
     "data": {
      "image/png": "[encoded data removed]",
      "text/plain": [
       "<Figure size 576x432 with 1 Axes>"
      ]
     },
     "metadata": {
      "needs_background": "light"
     },
     "output_type": "display_data"
    },
    {
     "data": {
      "image/png": "[encoded data removed]",
      "text/plain": [
       "<Figure size 576x432 with 1 Axes>"
      ]
     },
     "metadata": {
      "needs_background": "light"
     },
     "output_type": "display_data"
    }
   ],
   "source": [
    "training_loss = history.history['loss']\n",
    "validation_loss = history.history['val_loss']\n",
    "training_accuracy = history.history['accuracy']\n",
    "validation_accuracy = history.history['val_accuracy']\n",
    "\n",
    "plt.figure(figsize=(8, 6))\n",
    "plt.plot(range(1, len(training_loss) + 1), training_loss, label='Training Loss')\n",
    "plt.plot(range(1, len(validation_loss) + 1), validation_loss, label='Validation Loss')\n",
    "plt.xlabel('Epochs')\n",
    "plt.ylabel('Loss')\n",
    "plt.title('Training and Validation Loss')\n",
    "plt.legend()\n",
    "plt.show()\n",
    "\n",
    "\n",
    "plt.figure(figsize=(8, 6))\n",
    "plt.plot(range(1, len(training_accuracy) + 1), training_accuracy, label='Training Accuracy')\n",
    "plt.plot(range(1, len(validation_accuracy) + 1), validation_accuracy, label='Validation Accuracy')\n",
    "plt.xlabel('Epochs')\n",
    "plt.ylabel('Accuracy')\n",
    "plt.title('Training and Validation Accuracy')\n",
    "plt.legend()\n",
    "plt.show()"
   ]
  },
  {
   "cell_type": "markdown",
   "metadata": {},
   "source": [
    "# LSTM"
   ]
  },
  {
   "cell_type": "code",
   "execution_count": 67,
   "metadata": {},
   "outputs": [
    {
     "name": "stdout",
     "output_type": "stream",
     "text": [
      "(8000, 16) \n",
      " (2000, 16)\n"
     ]
    }
   ],
   "source": [
    "X = data.drop(['Label'], axis = 1)\n",
    "y = data['Label']\n",
    "\n",
    "\n",
    "\n",
    "y_data = LabelBinarizer().fit_transform(y)\n",
    "\n",
    "X=np.array(X)\n",
    "y=np.array(y)\n",
    "\n",
    "\n",
    "\n",
    "X_train, X_test, y_train, y_test = train_test_split(X,y, test_size=0.20, random_state=42)\n",
    "print(X_train.shape,'\\n',X_test.shape)\n",
    "\n",
    "\n",
    "X_train = np.reshape(X_train, ( X_train.shape[0], 1 , X_train.shape[1] ))\n",
    "X_test = np.reshape(X_test, ( X_test.shape[0], 1,  X_test.shape[1] ))\n",
    "\n",
    "\n",
    "\n",
    "y_train=to_categorical(y_train)\n",
    "y_test=to_categorical(y_test)"
   ]
  },
  {
   "cell_type": "code",
   "execution_count": 68,
   "metadata": {},
   "outputs": [],
   "source": [
    "model = Sequential() \n",
    "model.add(LSTM(64,return_sequences=True,input_shape = (1, X_train.shape[2])))\n",
    "model.add(Dropout(0.2))\n",
    "model.add(LSTM(64,return_sequences=True))\n",
    "model.add(Dropout(0.2))\n",
    "model.add(LSTM(64,return_sequences=True))\n",
    "model.add(Flatten())\n",
    "model.add(Dense(units=50))\n",
    "\n",
    "model.add(Dense(units=2,activation='softmax'))"
   ]
  },
  {
   "cell_type": "code",
   "execution_count": 69,
   "metadata": {},
   "outputs": [
    {
     "name": "stdout",
     "output_type": "stream",
     "text": [
      "Epoch 1/10\n",
      "125/125 [==============================] - 2s 9ms/step - loss: 0.5609 - accuracy: 0.7071 - val_loss: 0.4419 - val_accuracy: 0.7955\n",
      "Epoch 2/10\n",
      "125/125 [==============================] - 1s 7ms/step - loss: 0.4241 - accuracy: 0.7976 - val_loss: 0.4155 - val_accuracy: 0.7895\n",
      "Epoch 3/10\n",
      "125/125 [==============================] - 1s 7ms/step - loss: 0.4163 - accuracy: 0.8044 - val_loss: 0.4110 - val_accuracy: 0.8070\n",
      "Epoch 4/10\n",
      "125/125 [==============================] - 1s 7ms/step - loss: 0.4085 - accuracy: 0.8081 - val_loss: 0.4052 - val_accuracy: 0.8140\n",
      "Epoch 5/10\n",
      "125/125 [==============================] - 1s 7ms/step - loss: 0.4024 - accuracy: 0.8094 - val_loss: 0.4026 - val_accuracy: 0.8170\n",
      "Epoch 6/10\n",
      "125/125 [==============================] - 1s 7ms/step - loss: 0.4011 - accuracy: 0.8129 - val_loss: 0.4065 - val_accuracy: 0.8080\n",
      "Epoch 7/10\n",
      "125/125 [==============================] - 1s 7ms/step - loss: 0.3961 - accuracy: 0.8120 - val_loss: 0.3961 - val_accuracy: 0.8170\n",
      "Epoch 8/10\n",
      "125/125 [==============================] - 1s 7ms/step - loss: 0.3951 - accuracy: 0.8133 - val_loss: 0.3967 - val_accuracy: 0.8195\n",
      "Epoch 9/10\n",
      "125/125 [==============================] - 1s 7ms/step - loss: 0.3923 - accuracy: 0.8145 - val_loss: 0.3948 - val_accuracy: 0.8190\n",
      "Epoch 10/10\n",
      "125/125 [==============================] - 1s 7ms/step - loss: 0.3899 - accuracy: 0.8161 - val_loss: 0.3952 - val_accuracy: 0.8035\n"
     ]
    }
   ],
   "source": [
    "model.compile(loss='categorical_crossentropy', optimizer='adam', metrics=['accuracy'])\n",
    "history = model.fit(X_train, y_train, epochs=10, batch_size=64, validation_data=(X_test, y_test))"
   ]
  },
  {
   "cell_type": "code",
   "execution_count": 70,
   "metadata": {},
   "outputs": [
    {
     "name": "stdout",
     "output_type": "stream",
     "text": [
      "Accuracy: 80.35%\n",
      "Precision: 81.45%\n",
      "Recall: 80.24%\n",
      "F1-score: 80.13%\n",
      "Sensitivity: 70.75%\n",
      "Specificity: 89.72%\n"
     ]
    }
   ],
   "source": [
    "y_pred_lstm = model.predict(X_test)  \n",
    "y_test = np.argmax(y_test, axis=1)\n",
    "\n",
    "y_pred_lstm_classes = np.argmax(y_pred_lstm, axis=1)\n",
    "\n",
    "\n",
    "a10 = accuracy_score(y_test, y_pred_lstm_classes) * 100\n",
    "p10 = precision_score(y_test, y_pred_lstm_classes, average='macro') * 100\n",
    "r10 = recall_score(y_test, y_pred_lstm_classes, average='macro') * 100\n",
    "f10 = f1_score(y_test, y_pred_lstm_classes, average='macro') * 100\n",
    "\n",
    "conf_matrix_gru = confusion_matrix(y_test, y_pred_lstm_classes)\n",
    "\n",
    "TN = conf_matrix_gru[0, 0]\n",
    "FP = conf_matrix_gru[0, 1]\n",
    "FN = conf_matrix_gru[1, 0]\n",
    "TP = conf_matrix_gru[1, 1]\n",
    "\n",
    "\n",
    "sensitivity10 = TP / (TP + FN)* 100\n",
    "specificity10 = TN / (TN + FP)* 100\n",
    "\n",
    "\n",
    "print(\"Accuracy: {:.2f}%\".format(a10))\n",
    "print(\"Precision: {:.2f}%\".format(p10))\n",
    "print(\"Recall: {:.2f}%\".format(r10))\n",
    "print(\"F1-score: {:.2f}%\".format(f10))\n",
    "print(\"Sensitivity: {:.2f}%\".format(sensitivity10))\n",
    "print(\"Specificity: {:.2f}%\".format(specificity10))"
   ]
  },
  {
   "cell_type": "code",
   "execution_count": 71,
   "metadata": {},
   "outputs": [
    {
     "data": {
      "image/png": "[encoded data removed]",
      "text/plain": [
       "<Figure size 576x432 with 1 Axes>"
      ]
     },
     "metadata": {
      "needs_background": "light"
     },
     "output_type": "display_data"
    },
    {
     "data": {
      "image/png": "[encoded data removed]",
      "text/plain": [
       "<Figure size 576x432 with 1 Axes>"
      ]
     },
     "metadata": {
      "needs_background": "light"
     },
     "output_type": "display_data"
    }
   ],
   "source": [
    "training_loss = history.history['loss']\n",
    "validation_loss = history.history['val_loss']\n",
    "training_accuracy = history.history['accuracy']\n",
    "validation_accuracy = history.history['val_accuracy']\n",
    "\n",
    "plt.figure(figsize=(8, 6))\n",
    "plt.plot(range(1, len(training_loss) + 1), training_loss, label='Training Loss')\n",
    "plt.plot(range(1, len(validation_loss) + 1), validation_loss, label='Validation Loss')\n",
    "plt.xlabel('Epochs')\n",
    "plt.ylabel('Loss')\n",
    "plt.title('Training and Validation Loss')\n",
    "plt.legend()\n",
    "plt.show()\n",
    "\n",
    "\n",
    "plt.figure(figsize=(8, 6))\n",
    "plt.plot(range(1, len(training_accuracy) + 1), training_accuracy, label='Training Accuracy')\n",
    "plt.plot(range(1, len(validation_accuracy) + 1), validation_accuracy, label='Validation Accuracy')\n",
    "plt.xlabel('Epochs')\n",
    "plt.ylabel('Accuracy')\n",
    "plt.title('Training and Validation Accuracy')\n",
    "plt.legend()\n",
    "plt.show()"
   ]
  },
  {
   "cell_type": "markdown",
   "metadata": {},
   "source": [
    "# Deep Neural Network"
   ]
  },
  {
   "cell_type": "code",
   "execution_count": 72,
   "metadata": {},
   "outputs": [
    {
     "name": "stdout",
     "output_type": "stream",
     "text": [
      "(8000, 16) \n",
      " (2000, 16)\n"
     ]
    }
   ],
   "source": [
    "X = data.drop(['Label'], axis = 1)\n",
    "y = data['Label']\n",
    "\n",
    "\n",
    "\n",
    "y_data = LabelBinarizer().fit_transform(y)\n",
    "\n",
    "X=np.array(X)\n",
    "y=np.array(y)\n",
    "\n",
    "\n",
    "\n",
    "X_train, X_test, y_train, y_test = train_test_split(X,y, test_size=0.20, random_state=42)\n",
    "print(X_train.shape,'\\n',X_test.shape)\n",
    "\n",
    "\n",
    "X_train = np.reshape(X_train, ( X_train.shape[0], 1 , X_train.shape[1] ))\n",
    "X_test = np.reshape(X_test, ( X_test.shape[0], 1,  X_test.shape[1] ))\n",
    "\n",
    "\n",
    "\n",
    "y_train=to_categorical(y_train)\n",
    "y_test=to_categorical(y_test)"
   ]
  },
  {
   "cell_type": "code",
   "execution_count": 73,
   "metadata": {},
   "outputs": [],
   "source": [
    "model = Sequential() \n",
    "model.add(SimpleRNN(64,return_sequences=True,input_shape = (1, X_train.shape[2])))\n",
    "model.add(Dropout(0.2))\n",
    "model.add(SimpleRNN(64,return_sequences=True))\n",
    "model.add(Dropout(0.2))\n",
    "model.add(SimpleRNN(64,return_sequences=True))\n",
    "model.add(Flatten())\n",
    "model.add(Dense(units=50))\n",
    "model.add(Dense(units=2,activation='softmax'))"
   ]
  },
  {
   "cell_type": "code",
   "execution_count": 74,
   "metadata": {},
   "outputs": [
    {
     "name": "stdout",
     "output_type": "stream",
     "text": [
      "Epoch 1/10\n",
      "125/125 [==============================] - 1s 7ms/step - loss: 0.5251 - accuracy: 0.7329 - val_loss: 0.4302 - val_accuracy: 0.7950\n",
      "Epoch 2/10\n",
      "125/125 [==============================] - 1s 5ms/step - loss: 0.4481 - accuracy: 0.7836 - val_loss: 0.4303 - val_accuracy: 0.8005\n",
      "Epoch 3/10\n",
      "125/125 [==============================] - 1s 5ms/step - loss: 0.4332 - accuracy: 0.7929 - val_loss: 0.4142 - val_accuracy: 0.7780\n",
      "Epoch 4/10\n",
      "125/125 [==============================] - 1s 5ms/step - loss: 0.4195 - accuracy: 0.7999 - val_loss: 0.4102 - val_accuracy: 0.7910\n",
      "Epoch 5/10\n",
      "125/125 [==============================] - 1s 5ms/step - loss: 0.4174 - accuracy: 0.7989 - val_loss: 0.4175 - val_accuracy: 0.7960\n",
      "Epoch 6/10\n",
      "125/125 [==============================] - 1s 5ms/step - loss: 0.4136 - accuracy: 0.8061 - val_loss: 0.4054 - val_accuracy: 0.7845\n",
      "Epoch 7/10\n",
      "125/125 [==============================] - 1s 5ms/step - loss: 0.4040 - accuracy: 0.8051 - val_loss: 0.3994 - val_accuracy: 0.8100\n",
      "Epoch 8/10\n",
      "125/125 [==============================] - 1s 5ms/step - loss: 0.3999 - accuracy: 0.8077 - val_loss: 0.3998 - val_accuracy: 0.8075\n",
      "Epoch 9/10\n",
      "125/125 [==============================] - 1s 5ms/step - loss: 0.3955 - accuracy: 0.8096 - val_loss: 0.4065 - val_accuracy: 0.8070\n",
      "Epoch 10/10\n",
      "125/125 [==============================] - 1s 5ms/step - loss: 0.3918 - accuracy: 0.8140 - val_loss: 0.3945 - val_accuracy: 0.8155\n"
     ]
    }
   ],
   "source": [
    "model.compile(loss='categorical_crossentropy', optimizer='adam', metrics=['accuracy'])\n",
    "history = model.fit(X_train, y_train, epochs=10, batch_size=64, validation_data=(X_test, y_test))"
   ]
  },
  {
   "cell_type": "code",
   "execution_count": 75,
   "metadata": {},
   "outputs": [
    {
     "name": "stdout",
     "output_type": "stream",
     "text": [
      "Accuracy: 81.55%\n",
      "Precision: 85.69%\n",
      "Recall: 81.35%\n",
      "F1-score: 80.93%\n",
      "Sensitivity: 64.27%\n",
      "Specificity: 98.42%\n"
     ]
    }
   ],
   "source": [
    "y_pred_rnn = model.predict(X_test)  \n",
    "y_test = np.argmax(y_test, axis=1)\n",
    "\n",
    "y_pred_rnn_classes = np.argmax(y_pred_rnn, axis=1)\n",
    "\n",
    "\n",
    "a11 = accuracy_score(y_test, y_pred_rnn_classes) * 100\n",
    "p11 = precision_score(y_test, y_pred_rnn_classes, average='macro') * 100\n",
    "r11 = recall_score(y_test, y_pred_rnn_classes, average='macro') * 100\n",
    "f11 = f1_score(y_test, y_pred_rnn_classes, average='macro') * 100\n",
    "\n",
    "conf_matrix_gru = confusion_matrix(y_test, y_pred_rnn_classes)\n",
    "\n",
    "TN = conf_matrix_gru[0, 0]\n",
    "FP = conf_matrix_gru[0, 1]\n",
    "FN = conf_matrix_gru[1, 0]\n",
    "TP = conf_matrix_gru[1, 1]\n",
    "\n",
    "\n",
    "sensitivity11 = TP / (TP + FN)* 100\n",
    "specificity11 = TN / (TN + FP)* 100\n",
    "\n",
    "print(\"Accuracy: {:.2f}%\".format(a11))\n",
    "print(\"Precision: {:.2f}%\".format(p11))\n",
    "print(\"Recall: {:.2f}%\".format(r11))\n",
    "print(\"F1-score: {:.2f}%\".format(f11))\n",
    "print(\"Sensitivity: {:.2f}%\".format(sensitivity11))\n",
    "print(\"Specificity: {:.2f}%\".format(specificity11))"
   ]
  },
  {
   "cell_type": "code",
   "execution_count": 76,
   "metadata": {},
   "outputs": [
    {
     "data": {
      "image/png": "[encoded data removed]",
      "text/plain": [
       "<Figure size 576x432 with 1 Axes>"
      ]
     },
     "metadata": {
      "needs_background": "light"
     },
     "output_type": "display_data"
    },
    {
     "data": {
      "image/png": "[encoded data removed]",
      "text/plain": [
       "<Figure size 576x432 with 1 Axes>"
      ]
     },
     "metadata": {
      "needs_background": "light"
     },
     "output_type": "display_data"
    }
   ],
   "source": [
    "training_loss = history.history['loss']\n",
    "validation_loss = history.history['val_loss']\n",
    "training_accuracy = history.history['accuracy']\n",
    "validation_accuracy = history.history['val_accuracy']\n",
    "\n",
    "plt.figure(figsize=(8, 6))\n",
    "plt.plot(range(1, len(training_loss) + 1), training_loss, label='Training Loss')\n",
    "plt.plot(range(1, len(validation_loss) + 1), validation_loss, label='Validation Loss')\n",
    "plt.xlabel('Epochs')\n",
    "plt.ylabel('Loss')\n",
    "plt.title('Training and Validation Loss')\n",
    "plt.legend()\n",
    "plt.show()\n",
    "\n",
    "\n",
    "plt.figure(figsize=(8, 6))\n",
    "plt.plot(range(1, len(training_accuracy) + 1), training_accuracy, label='Training Accuracy')\n",
    "plt.plot(range(1, len(validation_accuracy) + 1), validation_accuracy, label='Validation Accuracy')\n",
    "plt.xlabel('Epochs')\n",
    "plt.ylabel('Accuracy')\n",
    "plt.title('Training and Validation Accuracy')\n",
    "plt.legend()\n",
    "plt.show()"
   ]
  },
  {
   "cell_type": "markdown",
   "metadata": {},
   "source": [
    "# MLP"
   ]
  },
  {
   "cell_type": "code",
   "execution_count": 77,
   "metadata": {},
   "outputs": [
    {
     "data": {
      "text/plain": [
       "MLPClassifier()"
      ]
     },
     "execution_count": 77,
     "metadata": {},
     "output_type": "execute_result"
    }
   ],
   "source": [
    "X = data.drop(['Label'], axis = 1)\n",
    "y = data['Label']\n",
    "\n",
    "X_train, X_test, y_train, y_test = train_test_split(X,y, test_size=0.20, random_state=42)\n",
    "\n",
    "from sklearn.neural_network import MLPClassifier\n",
    "\n",
    "mlp = MLPClassifier()\n",
    "\n",
    "mlp.fit(X_train, y_train)"
   ]
  },
  {
   "cell_type": "code",
   "execution_count": 78,
   "metadata": {},
   "outputs": [
    {
     "name": "stdout",
     "output_type": "stream",
     "text": [
      "TRAINIG RESULTS: \n",
      "===============================\n",
      "CONFUSION MATRIX:\n",
      "[[3851  137]\n",
      " [1015 2997]]\n",
      "ACCURACY SCORE:\n",
      "0.8560\n",
      "CLASSIFICATION REPORT:\n",
      "                     0            1  accuracy    macro avg  weighted avg\n",
      "precision     0.791410     0.956286     0.856     0.873848      0.874095\n",
      "recall        0.965647     0.747009     0.856     0.856328      0.856000\n",
      "f1-score      0.869889     0.838791     0.856     0.854340      0.854293\n",
      "support    3988.000000  4012.000000     0.856  8000.000000   8000.000000\n",
      "TESTING RESULTS: \n",
      "===============================\n",
      "CONFUSION MATRIX:\n",
      "[[988  24]\n",
      " [281 707]]\n",
      "ACCURACY SCORE:\n",
      "0.8475\n",
      "CLASSIFICATION REPORT:\n",
      "                     0           1  accuracy    macro avg  weighted avg\n",
      "precision     0.778566    0.967168    0.8475     0.872867      0.871735\n",
      "recall        0.976285    0.715587    0.8475     0.845936      0.847500\n",
      "f1-score      0.866287    0.822571    0.8475     0.844429      0.844691\n",
      "support    1012.000000  988.000000    0.8475  2000.000000   2000.000000\n"
     ]
    }
   ],
   "source": [
    "evaluate(mlp,X_train, X_test, y_train, y_test)"
   ]
  },
  {
   "cell_type": "code",
   "execution_count": 79,
   "metadata": {},
   "outputs": [
    {
     "name": "stdout",
     "output_type": "stream",
     "text": [
      "Accuracy: 84.75%\n",
      "Precision: 87.29%\n",
      "Recall: 84.59%\n",
      "F1-score: 84.44%\n",
      "Sensitivity: 71.56%\n",
      "Specificity: 97.63%\n"
     ]
    }
   ],
   "source": [
    "y_pred = mlp.predict(X_test)\n",
    "a12 = accuracy_score(y_test, y_pred) * 100\n",
    "p12 = precision_score(y_test,y_pred,average='macro') * 100 \n",
    "r12 = recall_score(y_test,y_pred,average='macro') * 100\n",
    "f12 = f1_score(y_test,y_pred,average='macro') * 100\n",
    "conf_matrix = confusion_matrix(y_test, y_pred)\n",
    "tn, fp, fn, tp = conf_matrix.ravel()\n",
    "sensitivity12 = tp / (tp + fn) * 100\n",
    "specificity12 = tn / (tn + fp) * 100\n",
    "\n",
    "\n",
    "print(\"Accuracy: {:.2f}%\".format(a12))\n",
    "print(\"Precision: {:.2f}%\".format(p12))\n",
    "print(\"Recall: {:.2f}%\".format(r12))\n",
    "print(\"F1-score: {:.2f}%\".format(f12))\n",
    "print(\"Sensitivity: {:.2f}%\".format(sensitivity12))\n",
    "print(\"Specificity: {:.2f}%\".format(specificity12))"
   ]
  },
  {
   "cell_type": "markdown",
   "metadata": {},
   "source": [
    "## Perceptron"
   ]
  },
  {
   "cell_type": "code",
   "execution_count": 80,
   "metadata": {},
   "outputs": [
    {
     "data": {
      "text/plain": [
       "Perceptron()"
      ]
     },
     "execution_count": 80,
     "metadata": {},
     "output_type": "execute_result"
    }
   ],
   "source": [
    "from sklearn.linear_model import Perceptron\n",
    "\n",
    "pre = Perceptron(tol=1e-3, random_state=0)\n",
    "\n",
    "pre.fit(X_train, y_train)"
   ]
  },
  {
   "cell_type": "code",
   "execution_count": 81,
   "metadata": {},
   "outputs": [
    {
     "name": "stdout",
     "output_type": "stream",
     "text": [
      "TRAINIG RESULTS: \n",
      "===============================\n",
      "CONFUSION MATRIX:\n",
      "[[3184  804]\n",
      " [ 955 3057]]\n",
      "ACCURACY SCORE:\n",
      "0.7801\n",
      "CLASSIFICATION REPORT:\n",
      "                     0            1  accuracy    macro avg  weighted avg\n",
      "precision     0.769268     0.791764  0.780125     0.780516      0.780550\n",
      "recall        0.798395     0.761964  0.780125     0.780180      0.780125\n",
      "f1-score      0.783561     0.776578  0.780125     0.780070      0.780059\n",
      "support    3988.000000  4012.000000  0.780125  8000.000000   8000.000000\n",
      "TESTING RESULTS: \n",
      "===============================\n",
      "CONFUSION MATRIX:\n",
      "[[805 207]\n",
      " [270 718]]\n",
      "ACCURACY SCORE:\n",
      "0.7615\n",
      "CLASSIFICATION REPORT:\n",
      "                     0           1  accuracy    macro avg  weighted avg\n",
      "precision     0.748837    0.776216    0.7615     0.762527      0.762362\n",
      "recall        0.795455    0.726721    0.7615     0.761088      0.761500\n",
      "f1-score      0.771442    0.750653    0.7615     0.761048      0.761173\n",
      "support    1012.000000  988.000000    0.7615  2000.000000   2000.000000\n"
     ]
    }
   ],
   "source": [
    "evaluate(pre,X_train, X_test, y_train, y_test)"
   ]
  },
  {
   "cell_type": "code",
   "execution_count": 82,
   "metadata": {},
   "outputs": [
    {
     "name": "stdout",
     "output_type": "stream",
     "text": [
      "Accuracy: 76.15%\n",
      "Precision: 76.25%\n",
      "Recall: 76.11%\n",
      "F1-score: 76.10%\n",
      "Sensitivity: 72.67%\n",
      "Specificity: 79.55%\n"
     ]
    }
   ],
   "source": [
    "y_pred = pre.predict(X_test)\n",
    "a13 = accuracy_score(y_test, y_pred) * 100\n",
    "p13 = precision_score(y_test,y_pred,average='macro') * 100 \n",
    "r13 = recall_score(y_test,y_pred,average='macro') * 100\n",
    "f13 = f1_score(y_test,y_pred,average='macro') * 100\n",
    "conf_matrix = confusion_matrix(y_test, y_pred)\n",
    "tn, fp, fn, tp = conf_matrix.ravel()\n",
    "sensitivity13 = tp / (tp + fn) * 100\n",
    "specificity13 = tn / (tn + fp) * 100\n",
    "\n",
    "\n",
    "print(\"Accuracy: {:.2f}%\".format(a13))\n",
    "print(\"Precision: {:.2f}%\".format(p13))\n",
    "print(\"Recall: {:.2f}%\".format(r13))\n",
    "print(\"F1-score: {:.2f}%\".format(f13))\n",
    "print(\"Sensitivity: {:.2f}%\".format(sensitivity13))\n",
    "print(\"Specificity: {:.2f}%\".format(specificity13))"
   ]
  },
  {
   "cell_type": "markdown",
   "metadata": {},
   "source": [
    "# Passive Aggressive Classifier"
   ]
  },
  {
   "cell_type": "code",
   "execution_count": 83,
   "metadata": {},
   "outputs": [
    {
     "data": {
      "text/plain": [
       "PassiveAggressiveClassifier()"
      ]
     },
     "execution_count": 83,
     "metadata": {},
     "output_type": "execute_result"
    }
   ],
   "source": [
    "from sklearn.linear_model import PassiveAggressiveClassifier\n",
    "\n",
    "passive = PassiveAggressiveClassifier()\n",
    "\n",
    "passive.fit(X_train, y_train)"
   ]
  },
  {
   "cell_type": "code",
   "execution_count": 84,
   "metadata": {},
   "outputs": [
    {
     "name": "stdout",
     "output_type": "stream",
     "text": [
      "TRAINIG RESULTS: \n",
      "===============================\n",
      "CONFUSION MATRIX:\n",
      "[[  54 3934]\n",
      " [  18 3994]]\n",
      "ACCURACY SCORE:\n",
      "0.5060\n",
      "CLASSIFICATION REPORT:\n",
      "                     0            1  accuracy    macro avg  weighted avg\n",
      "precision     0.750000     0.503784     0.506     0.626892      0.626523\n",
      "recall        0.013541     0.995513     0.506     0.504527      0.506000\n",
      "f1-score      0.026601     0.669012     0.506     0.347806      0.348770\n",
      "support    3988.000000  4012.000000     0.506  8000.000000   8000.000000\n",
      "TESTING RESULTS: \n",
      "===============================\n",
      "CONFUSION MATRIX:\n",
      "[[ 15 997]\n",
      " [  7 981]]\n",
      "ACCURACY SCORE:\n",
      "0.4980\n",
      "CLASSIFICATION REPORT:\n",
      "                     0           1  accuracy    macro avg  weighted avg\n",
      "precision     0.681818    0.495956     0.498     0.588887      0.590002\n",
      "recall        0.014822    0.992915     0.498     0.503869      0.498000\n",
      "f1-score      0.029014    0.661497     0.498     0.345255      0.341460\n",
      "support    1012.000000  988.000000     0.498  2000.000000   2000.000000\n"
     ]
    }
   ],
   "source": [
    "evaluate(passive,X_train, X_test, y_train, y_test)"
   ]
  },
  {
   "cell_type": "code",
   "execution_count": 85,
   "metadata": {},
   "outputs": [
    {
     "name": "stdout",
     "output_type": "stream",
     "text": [
      "Accuracy: 49.80%\n",
      "Precision: 58.89%\n",
      "Recall: 50.39%\n",
      "F1-score: 34.53%\n",
      "Sensitivity: 99.29%\n",
      "Specificity: 1.48%\n"
     ]
    }
   ],
   "source": [
    "y_pred = passive.predict(X_test)\n",
    "a14 = accuracy_score(y_test, y_pred) * 100\n",
    "p14 = precision_score(y_test,y_pred,average='macro') * 100 \n",
    "r14 = recall_score(y_test,y_pred,average='macro') * 100\n",
    "f14 = f1_score(y_test,y_pred,average='macro') * 100\n",
    "conf_matrix = confusion_matrix(y_test, y_pred)\n",
    "tn, fp, fn, tp = conf_matrix.ravel()\n",
    "sensitivity14 = tp / (tp + fn) * 100\n",
    "specificity14 = tn / (tn + fp) * 100\n",
    "\n",
    "\n",
    "print(\"Accuracy: {:.2f}%\".format(a14))\n",
    "print(\"Precision: {:.2f}%\".format(p14))\n",
    "print(\"Recall: {:.2f}%\".format(r14))\n",
    "print(\"F1-score: {:.2f}%\".format(f14))\n",
    "print(\"Sensitivity: {:.2f}%\".format(sensitivity14))\n",
    "print(\"Specificity: {:.2f}%\".format(specificity14))"
   ]
  },
  {
   "cell_type": "markdown",
   "metadata": {},
   "source": [
    "# Voting Classifier "
   ]
  },
  {
   "cell_type": "code",
   "execution_count": 86,
   "metadata": {},
   "outputs": [
    {
     "data": {
      "text/plain": [
       "VotingClassifier(estimators=[('mlp', MLPClassifier()),\n",
       "                             ('xg',\n",
       "                              XGBClassifier(base_score=None, booster=None,\n",
       "                                            callbacks=None,\n",
       "                                            colsample_bylevel=None,\n",
       "                                            colsample_bynode=None,\n",
       "                                            colsample_bytree=None,\n",
       "                                            early_stopping_rounds=None,\n",
       "                                            enable_categorical=False,\n",
       "                                            eval_metric=None, gamma=None,\n",
       "                                            gpu_id=None, grow_policy=None,\n",
       "                                            importance_type=None,\n",
       "                                            interaction_constraints=None,\n",
       "                                            learning_rate=None, max_bin=None,\n",
       "                                            max_cat_to_onehot=None,\n",
       "                                            max_delta_step=None, max_depth=None,\n",
       "                                            max_leaves=None,\n",
       "                                            min_child_weight=None, missing=nan,\n",
       "                                            monotone_constraints=None,\n",
       "                                            n_estimators=100, n_jobs=None,\n",
       "                                            num_parallel_tree=None,\n",
       "                                            predictor=None, random_state=None,\n",
       "                                            reg_alpha=None, reg_lambda=None, ...)),\n",
       "                             ('dt', DecisionTreeClassifier())])"
      ]
     },
     "execution_count": 86,
     "metadata": {},
     "output_type": "execute_result"
    }
   ],
   "source": [
    "from sklearn.ensemble import VotingClassifier\n",
    "\n",
    "\n",
    "clf1 = MLPClassifier()\n",
    "clf2 = xgb.XGBClassifier()\n",
    "clf3 = DecisionTreeClassifier()\n",
    "\n",
    "eclf11 = VotingClassifier(estimators=[('mlp', clf1), ('xg', clf2), ('dt', clf3)], voting='hard')\n",
    "\n",
    "\n",
    "\n",
    "eclf11.fit(X_train, y_train)\n",
    "\n"
   ]
  },
  {
   "cell_type": "code",
   "execution_count": 87,
   "metadata": {},
   "outputs": [
    {
     "name": "stdout",
     "output_type": "stream",
     "text": [
      "TRAINIG RESULTS: \n",
      "===============================\n",
      "CONFUSION MATRIX:\n",
      "[[3793  195]\n",
      " [ 873 3139]]\n",
      "ACCURACY SCORE:\n",
      "0.8665\n",
      "CLASSIFICATION REPORT:\n",
      "                     0            1  accuracy    macro avg  weighted avg\n",
      "precision     0.812902     0.941512    0.8665     0.877207      0.877400\n",
      "recall        0.951103     0.782403    0.8665     0.866753      0.866500\n",
      "f1-score      0.876589     0.854615    0.8665     0.865602      0.865569\n",
      "support    3988.000000  4012.000000    0.8665  8000.000000   8000.000000\n",
      "TESTING RESULTS: \n",
      "===============================\n",
      "CONFUSION MATRIX:\n",
      "[[976  36]\n",
      " [251 737]]\n",
      "ACCURACY SCORE:\n",
      "0.8565\n",
      "CLASSIFICATION REPORT:\n",
      "                     0           1  accuracy    macro avg  weighted avg\n",
      "precision     0.795436    0.953428    0.8565     0.874432      0.873484\n",
      "recall        0.964427    0.745951    0.8565     0.855189      0.856500\n",
      "f1-score      0.871818    0.837024    0.8565     0.854421      0.854630\n",
      "support    1012.000000  988.000000    0.8565  2000.000000   2000.000000\n"
     ]
    }
   ],
   "source": [
    "evaluate(eclf11, X_train, X_test, y_train, y_test)"
   ]
  },
  {
   "cell_type": "code",
   "execution_count": 88,
   "metadata": {},
   "outputs": [
    {
     "name": "stdout",
     "output_type": "stream",
     "text": [
      "Accuracy: 85.65%\n",
      "Precision: 87.44%\n",
      "Recall: 85.52%\n",
      "F1-score: 85.44%\n",
      "Sensitivity: 74.60%\n",
      "Specificity: 96.44%\n"
     ]
    }
   ],
   "source": [
    "y_pred = eclf11.predict(X_test)\n",
    "a15 = accuracy_score(y_test, y_pred) * 100\n",
    "p15 = precision_score(y_test,y_pred,average='macro') * 100 \n",
    "r15 = recall_score(y_test,y_pred,average='macro') * 100\n",
    "f15 = f1_score(y_test,y_pred,average='macro') * 100\n",
    "conf_matrix = confusion_matrix(y_test, y_pred)\n",
    "tn, fp, fn, tp = conf_matrix.ravel()\n",
    "sensitivity15 = tp / (tp + fn) * 100\n",
    "specificity15 = tn / (tn + fp) * 100\n",
    "\n",
    "\n",
    "print(\"Accuracy: {:.2f}%\".format(a15))\n",
    "print(\"Precision: {:.2f}%\".format(p15))\n",
    "print(\"Recall: {:.2f}%\".format(r15))\n",
    "print(\"F1-score: {:.2f}%\".format(f15))\n",
    "print(\"Sensitivity: {:.2f}%\".format(sensitivity15))\n",
    "print(\"Specificity: {:.2f}%\".format(specificity15))"
   ]
  },
  {
   "cell_type": "markdown",
   "metadata": {},
   "source": [
    "# Comparison"
   ]
  },
  {
   "cell_type": "code",
   "execution_count": 89,
   "metadata": {},
   "outputs": [],
   "source": [
    "results = {\n",
    "    'accuracy': [a, a1, a2, a3, a4, a5, a6, a7, a8, a9, a10, a11, a12, a13, a14, a15],\n",
    "    'precision': [p, p1, p2, p3, p4, p5, p6, p7, p8, p9, p10, p11, p12, p13, p14, p15],\n",
    "    'f1': [f, f1, f2, f3, f4, f5, f6, f7, f8, f9, f10, f11, f12, f13, f14, f15],\n",
    "    'recall': [r, r1, r2, r3, r4, r5, r6, r7, r8, r9, r10, r11, r12, r13, r14, r15],\n",
    "    'sensitivity': [sensitivity, sensitivity1, sensitivity2, sensitivity3, sensitivity4, sensitivity5, sensitivity6, sensitivity7, sensitivity8, sensitivity9, sensitivity10, sensitivity11, sensitivity12, sensitivity13, sensitivity14, sensitivity15],\n",
    "    'specificity': [specificity, specificity1, specificity2, specificity3, specificity4, specificity5, specificity6, specificity7, specificity8, specificity9, specificity10, specificity11, specificity12, specificity13, specificity14, specificity15],\n",
    "\n",
    "}\n",
    "\n",
    "index = ['SVM','Random Forest','Logistic Regression','KNN','Decision Tree','Adaboost','Naive Bayes','Gradient Boosting','Xgboost','CNN','LSTM','Deep Neural Network','MLP','Perceptron','Passive Aggressive','Voting Classifier']\n"
   ]
  },
  {
   "cell_type": "code",
   "execution_count": 90,
   "metadata": {},
   "outputs": [],
   "source": [
    "results =pd.DataFrame(results,index=index)"
   ]
  },
  {
   "cell_type": "code",
   "execution_count": 91,
   "metadata": {},
   "outputs": [
    {
     "name": "stdout",
     "output_type": "stream",
     "text": [
      "                     accuracy  precision         f1     recall  sensitivity  \\\n",
      "SVM                     82.05  85.508906  81.616852  82.096789    66.500499   \n",
      "Random Forest           78.30  84.544455  77.298881  78.363705    57.128614   \n",
      "Logistic Regression     80.15  82.760417  79.761786  80.192272    66.101695   \n",
      "KNN                     83.15  84.236923  83.022974  83.176699    74.277168   \n",
      "Decision Tree           79.95  82.386913  79.580608  79.991070    66.301097   \n",
      "Adaboost                80.60  81.460319  80.475040  80.624726    72.382851   \n",
      "Naive Bayes             78.90  84.710871  78.002410  78.961311    58.524427   \n",
      "Gradient Boosting       83.00  86.100693  82.640024  83.043947    68.394816   \n",
      "Xgboost                 85.25  85.819358  85.195813  85.268917    78.963111   \n",
      "CNN                     50.60  25.300000  33.598938  50.000000     0.000000   \n",
      "LSTM                    80.35  81.452438  80.133048  80.236154    70.748988   \n",
      "Deep Neural Network     81.55  85.687356  80.928651  81.345114    64.271255   \n",
      "MLP                     84.75  87.286703  84.442899  84.593581    71.558704   \n",
      "Perceptron              76.15  76.252671  76.104784  76.108760    72.672065   \n",
      "Passive Aggressive      49.80  58.888685  34.525525  50.386856    99.291498   \n",
      "Voting Classifier       85.65  87.443211  85.442110  85.518915    74.595142   \n",
      "\n",
      "                     specificity  \n",
      "SVM                    97.693079  \n",
      "Random Forest          99.598796  \n",
      "Logistic Regression    94.282849  \n",
      "KNN                    92.076229  \n",
      "Decision Tree          93.681043  \n",
      "Adaboost               88.866600  \n",
      "Naive Bayes            99.398195  \n",
      "Gradient Boosting      97.693079  \n",
      "Xgboost                91.574724  \n",
      "CNN                   100.000000  \n",
      "LSTM                   89.723320  \n",
      "Deep Neural Network    98.418972  \n",
      "MLP                    97.628458  \n",
      "Perceptron             79.545455  \n",
      "Passive Aggressive      1.482213  \n",
      "Voting Classifier      96.442688  \n"
     ]
    }
   ],
   "source": [
    "print(results)"
   ]
  },
  {
   "cell_type": "code",
   "execution_count": 92,
   "metadata": {},
   "outputs": [
    {
     "data": {
      "image/png": "[encoded data removed]",
      "text/plain": [
       "<Figure size 1368x1368 with 1 Axes>"
      ]
     },
     "metadata": {
      "needs_background": "light"
     },
     "output_type": "display_data"
    }
   ],
   "source": [
    "fig =results.plot(kind='bar',title='Comaprison of models',figsize =(19,19)).get_figure()\n",
    "fig.savefig('Final Result.png')"
   ]
  },
  {
   "cell_type": "markdown",
   "metadata": {},
   "source": [
    "# Saving Model"
   ]
  },
  {
   "cell_type": "code",
   "execution_count": 93,
   "metadata": {},
   "outputs": [],
   "source": [
    "pickle.dump(eclf11,open('model.sav','wb'))"
   ]
  },
  {
   "cell_type": "code",
   "execution_count": null,
   "metadata": {},
   "outputs": [],
   "source": []
  }
 ],
 "metadata": {
  "kernelspec": {
   "display_name": "Python 3",
   "language": "python",
   "name": "python3"
  },
  "language_info": {
   "codemirror_mode": {
    "name": "ipython",
    "version": 3
   },
   "file_extension": ".py",
   "mimetype": "text/x-python",
   "name": "python",
   "nbconvert_exporter": "python",
   "pygments_lexer": "ipython3",
   "version": "3.7.4"
  }
 },
 "nbformat": 4,
 "nbformat_minor": 5
}
